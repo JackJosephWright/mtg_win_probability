{
 "cells": [
  {
   "cell_type": "code",
   "execution_count": null,
   "metadata": {},
   "outputs": [],
   "source": [
    "# checking to see if I got all the cards"
   ]
  },
  {
   "cell_type": "code",
   "execution_count": 1,
   "metadata": {},
   "outputs": [],
   "source": [
    "import pandas as pd"
   ]
  },
  {
   "cell_type": "code",
   "execution_count": 2,
   "metadata": {},
   "outputs": [],
   "source": [
    "recalc_cards = pd.read_csv('../data/winrates_by_turn/dsk_winrates_by_turn.csv')"
   ]
  },
  {
   "cell_type": "code",
   "execution_count": 5,
   "metadata": {},
   "outputs": [],
   "source": [
    "all_cards = pd.read_csv('../data/cards_data/cards.csv')\n",
    "dsk_cards = all_cards[all_cards['expansion'] == 'DSK']"
   ]
  },
  {
   "cell_type": "code",
   "execution_count": 10,
   "metadata": {},
   "outputs": [
    {
     "name": "stdout",
     "output_type": "stream",
     "text": [
      "Some dsk_cards['id'] are missing in recalc_cards['Card ID'].\n"
     ]
    }
   ],
   "source": [
    "\n",
    "# Check if all ids in dsk_cards are in recalc_cards\n",
    "all_ids_present = dsk_cards['id'].isin(recalc_cards['Card ID']).all()\n",
    "\n",
    "# Output result\n",
    "if all_ids_present:\n",
    "    print(\"All dsk_cards['id'] are present in recalc_cards['Card ID'].\")\n",
    "else:\n",
    "    print(\"Some dsk_cards['id'] are missing in recalc_cards['Card ID'].\")\n"
   ]
  },
  {
   "cell_type": "code",
   "execution_count": 11,
   "metadata": {},
   "outputs": [
    {
     "data": {
      "text/html": [
       "<div>\n",
       "<style scoped>\n",
       "    .dataframe tbody tr th:only-of-type {\n",
       "        vertical-align: middle;\n",
       "    }\n",
       "\n",
       "    .dataframe tbody tr th {\n",
       "        vertical-align: top;\n",
       "    }\n",
       "\n",
       "    .dataframe thead th {\n",
       "        text-align: right;\n",
       "    }\n",
       "</style>\n",
       "<table border=\"1\" class=\"dataframe\">\n",
       "  <thead>\n",
       "    <tr style=\"text-align: right;\">\n",
       "      <th></th>\n",
       "      <th>id</th>\n",
       "      <th>expansion</th>\n",
       "      <th>name</th>\n",
       "      <th>rarity</th>\n",
       "      <th>color_identity</th>\n",
       "      <th>mana_value</th>\n",
       "      <th>types</th>\n",
       "      <th>is_booster</th>\n",
       "    </tr>\n",
       "  </thead>\n",
       "  <tbody>\n",
       "    <tr>\n",
       "      <th>17477</th>\n",
       "      <td>92166</td>\n",
       "      <td>DSK</td>\n",
       "      <td>Demonic Counsel</td>\n",
       "      <td>rare</td>\n",
       "      <td>B</td>\n",
       "      <td>2</td>\n",
       "      <td>Sorcery</td>\n",
       "      <td>True</td>\n",
       "    </tr>\n",
       "    <tr>\n",
       "      <th>17759</th>\n",
       "      <td>92164</td>\n",
       "      <td>DSK</td>\n",
       "      <td>Defiled Crypt</td>\n",
       "      <td>uncommon</td>\n",
       "      <td>B</td>\n",
       "      <td>4</td>\n",
       "      <td>Enchantment - Room</td>\n",
       "      <td>False</td>\n",
       "    </tr>\n",
       "    <tr>\n",
       "      <th>17760</th>\n",
       "      <td>92165</td>\n",
       "      <td>DSK</td>\n",
       "      <td>Cadaver Lab</td>\n",
       "      <td>uncommon</td>\n",
       "      <td>B</td>\n",
       "      <td>1</td>\n",
       "      <td>Enchantment - Room</td>\n",
       "      <td>False</td>\n",
       "    </tr>\n",
       "    <tr>\n",
       "      <th>17761</th>\n",
       "      <td>92168</td>\n",
       "      <td>DSK</td>\n",
       "      <td>Derelict Attic</td>\n",
       "      <td>common</td>\n",
       "      <td>B</td>\n",
       "      <td>3</td>\n",
       "      <td>Enchantment - Room</td>\n",
       "      <td>False</td>\n",
       "    </tr>\n",
       "    <tr>\n",
       "      <th>17762</th>\n",
       "      <td>92169</td>\n",
       "      <td>DSK</td>\n",
       "      <td>Widow's Walk</td>\n",
       "      <td>common</td>\n",
       "      <td>B</td>\n",
       "      <td>4</td>\n",
       "      <td>Enchantment - Room</td>\n",
       "      <td>False</td>\n",
       "    </tr>\n",
       "    <tr>\n",
       "      <th>...</th>\n",
       "      <td>...</td>\n",
       "      <td>...</td>\n",
       "      <td>...</td>\n",
       "      <td>...</td>\n",
       "      <td>...</td>\n",
       "      <td>...</td>\n",
       "      <td>...</td>\n",
       "      <td>...</td>\n",
       "    </tr>\n",
       "    <tr>\n",
       "      <th>17898</th>\n",
       "      <td>92136</td>\n",
       "      <td>DSK</td>\n",
       "      <td>Mirror Room</td>\n",
       "      <td>mythic</td>\n",
       "      <td>U</td>\n",
       "      <td>3</td>\n",
       "      <td>Enchantment - Room</td>\n",
       "      <td>False</td>\n",
       "    </tr>\n",
       "    <tr>\n",
       "      <th>17899</th>\n",
       "      <td>92137</td>\n",
       "      <td>DSK</td>\n",
       "      <td>Fractured Realm</td>\n",
       "      <td>mythic</td>\n",
       "      <td>U</td>\n",
       "      <td>7</td>\n",
       "      <td>Enchantment - Room</td>\n",
       "      <td>False</td>\n",
       "    </tr>\n",
       "    <tr>\n",
       "      <th>17900</th>\n",
       "      <td>92150</td>\n",
       "      <td>DSK</td>\n",
       "      <td>Underwater Tunnel</td>\n",
       "      <td>common</td>\n",
       "      <td>U</td>\n",
       "      <td>1</td>\n",
       "      <td>Enchantment - Room</td>\n",
       "      <td>False</td>\n",
       "    </tr>\n",
       "    <tr>\n",
       "      <th>17901</th>\n",
       "      <td>92151</td>\n",
       "      <td>DSK</td>\n",
       "      <td>Slimy Aquarium</td>\n",
       "      <td>common</td>\n",
       "      <td>U</td>\n",
       "      <td>4</td>\n",
       "      <td>Enchantment - Room</td>\n",
       "      <td>False</td>\n",
       "    </tr>\n",
       "    <tr>\n",
       "      <th>19453</th>\n",
       "      <td>96355</td>\n",
       "      <td>DSK</td>\n",
       "      <td>A-Leyline of Resonance</td>\n",
       "      <td>rare</td>\n",
       "      <td>R</td>\n",
       "      <td>4</td>\n",
       "      <td>Enchantment</td>\n",
       "      <td>False</td>\n",
       "    </tr>\n",
       "  </tbody>\n",
       "</table>\n",
       "<p>145 rows × 8 columns</p>\n",
       "</div>"
      ],
      "text/plain": [
       "          id expansion                    name    rarity color_identity  \\\n",
       "17477  92166       DSK         Demonic Counsel      rare              B   \n",
       "17759  92164       DSK           Defiled Crypt  uncommon              B   \n",
       "17760  92165       DSK             Cadaver Lab  uncommon              B   \n",
       "17761  92168       DSK          Derelict Attic    common              B   \n",
       "17762  92169       DSK            Widow's Walk    common              B   \n",
       "...      ...       ...                     ...       ...            ...   \n",
       "17898  92136       DSK             Mirror Room    mythic              U   \n",
       "17899  92137       DSK         Fractured Realm    mythic              U   \n",
       "17900  92150       DSK       Underwater Tunnel    common              U   \n",
       "17901  92151       DSK          Slimy Aquarium    common              U   \n",
       "19453  96355       DSK  A-Leyline of Resonance      rare              R   \n",
       "\n",
       "       mana_value               types  is_booster  \n",
       "17477           2             Sorcery        True  \n",
       "17759           4  Enchantment - Room       False  \n",
       "17760           1  Enchantment - Room       False  \n",
       "17761           3  Enchantment - Room       False  \n",
       "17762           4  Enchantment - Room       False  \n",
       "...           ...                 ...         ...  \n",
       "17898           3  Enchantment - Room       False  \n",
       "17899           7  Enchantment - Room       False  \n",
       "17900           1  Enchantment - Room       False  \n",
       "17901           4  Enchantment - Room       False  \n",
       "19453           4         Enchantment       False  \n",
       "\n",
       "[145 rows x 8 columns]"
      ]
     },
     "execution_count": 11,
     "metadata": {},
     "output_type": "execute_result"
    }
   ],
   "source": [
    "missing_ids = dsk_cards[~dsk_cards['id'].isin(recalc_cards['Card ID'])]\n",
    "missing_ids"
   ]
  },
  {
   "cell_type": "code",
   "execution_count": 12,
   "metadata": {},
   "outputs": [
    {
     "data": {
      "text/plain": [
       "430"
      ]
     },
     "execution_count": 12,
     "metadata": {},
     "output_type": "execute_result"
    }
   ],
   "source": []
  },
  {
   "cell_type": "markdown",
   "metadata": {},
   "source": [
    "## its ok that some are missing, they might be different printings and each split card has an id for each half of the split. the ids that come from the replays being mapped is ok\n"
   ]
  }
 ],
 "metadata": {
  "kernelspec": {
   "display_name": "base",
   "language": "python",
   "name": "python3"
  },
  "language_info": {
   "codemirror_mode": {
    "name": "ipython",
    "version": 3
   },
   "file_extension": ".py",
   "mimetype": "text/x-python",
   "name": "python",
   "nbconvert_exporter": "python",
   "pygments_lexer": "ipython3",
   "version": "3.12.7"
  }
 },
 "nbformat": 4,
 "nbformat_minor": 2
}
