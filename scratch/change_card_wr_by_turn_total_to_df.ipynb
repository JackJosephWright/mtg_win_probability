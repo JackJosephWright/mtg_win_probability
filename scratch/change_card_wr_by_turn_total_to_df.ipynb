{
 "cells": [
  {
   "cell_type": "markdown",
   "metadata": {},
   "source": [
    "## This turns the card_wr_by_turn_total.json dict into a df. this has an additional Total column i added to filter out low frequency cards if necessary"
   ]
  },
  {
   "cell_type": "code",
   "execution_count": 1,
   "metadata": {},
   "outputs": [],
   "source": [
    "import os\n",
    "import sys\n",
    "import pandas\n",
    "import json\n",
    "import pandas as pd\n",
    "\n",
    "os.chdir(\"..\")"
   ]
  },
  {
   "cell_type": "code",
   "execution_count": 2,
   "metadata": {},
   "outputs": [],
   "source": [
    "json_path = './data/card_wr_by_turn_dict/card_wr_by_turn_total.json'\n",
    "with open(json_path) as f:\n",
    "    card_wr_by_turn_total = json.load(f)\n",
    "\n",
    "cards = pd.read_csv('./data/cards.csv')"
   ]
  },
  {
   "cell_type": "code",
   "execution_count": 8,
   "metadata": {},
   "outputs": [
    {
     "name": "stdout",
     "output_type": "stream",
     "text": [
      "card not found in cards.csv\n",
      "card not found in cards.csv\n",
      "card not found in cards.csv\n",
      "card not found in cards.csv\n",
      "card not found in cards.csv\n",
      "card not found in cards.csv\n",
      "card not found in cards.csv\n",
      "card not found in cards.csv\n",
      "card not found in cards.csv\n",
      "card not found in cards.csv\n",
      "card not found in cards.csv\n",
      "card not found in cards.csv\n",
      "card not found in cards.csv\n",
      "card not found in cards.csv\n",
      "card not found in cards.csv\n",
      "card not found in cards.csv\n",
      "card not found in cards.csv\n",
      "card not found in cards.csv\n",
      "card not found in cards.csv\n",
      "card not found in cards.csv\n",
      "card not found in cards.csv\n",
      "card not found in cards.csv\n",
      "card not found in cards.csv\n",
      "card not found in cards.csv\n",
      "card not found in cards.csv\n",
      "card not found in cards.csv\n"
     ]
    }
   ],
   "source": [
    "#convert to pandas dataframe\n",
    "output_df = None\n",
    "for key, val in card_wr_by_turn_total.items():\n",
    "    card_id = str(key)\n",
    "    for key , val in val.items():\n",
    "        turn = int(key)\n",
    "        wr = val['wr']\n",
    "        total = val['total']\n",
    "        try:\n",
    "            name = cards[cards['id'] == int(card_id)]['name'].values[0]\n",
    "        except:\n",
    "            print('card not found in cards.csv')\n",
    "            break\n",
    "        row = {'Card ID': card_id, 'Card Name': name, 'Turn': turn, 'Win Rate': wr, 'Total': total}\n",
    "        if output_df is None:\n",
    "            output_df = pd.DataFrame([row])\n",
    "        else:\n",
    "            output_df = pd.concat([output_df, pd.DataFrame([row])])"
   ]
  },
  {
   "cell_type": "code",
   "execution_count": null,
   "metadata": {},
   "outputs": [],
   "source": [
    "# save output_df to csv\n",
    "# output_df.to_csv('./data/card_wr_by_turn_dict/card_wr_by_turn_total_df.csv', index=False)"
   ]
  },
  {
   "cell_type": "code",
   "execution_count": null,
   "metadata": {},
   "outputs": [],
   "source": [
    "\n"
   ]
  }
 ],
 "metadata": {
  "kernelspec": {
   "display_name": "base",
   "language": "python",
   "name": "python3"
  },
  "language_info": {
   "codemirror_mode": {
    "name": "ipython",
    "version": 3
   },
   "file_extension": ".py",
   "mimetype": "text/x-python",
   "name": "python",
   "nbconvert_exporter": "python",
   "pygments_lexer": "ipython3",
   "version": "3.10.9"
  }
 },
 "nbformat": 4,
 "nbformat_minor": 2
}
