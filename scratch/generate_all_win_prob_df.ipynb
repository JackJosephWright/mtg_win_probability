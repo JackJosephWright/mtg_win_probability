{
 "cells": [
  {
   "cell_type": "code",
   "execution_count": 1,
   "metadata": {},
   "outputs": [],
   "source": [
    "import os\n",
    "import sys\n",
    "import pandas as pd\n",
    "# Add the funcs folder to sys.path\n",
    "current_dir = os.getcwd()\n",
    "funcs_dir = os.path.join(current_dir, 'funcs')\n",
    "if funcs_dir not in sys.path:\n",
    "    sys.path.append(funcs_dir)"
   ]
  },
  {
   "cell_type": "code",
   "execution_count": 2,
   "metadata": {},
   "outputs": [],
   "source": [
    "\n",
    "from load_id_to_wr_mapping import load_id_to_wr_mapping\n",
    "from transform_row_to_turns import transform_row_to_turns\n",
    "from transform_replay_data import transform_replay_data"
   ]
  },
  {
   "cell_type": "code",
   "execution_count": 3,
   "metadata": {},
   "outputs": [
    {
     "name": "stdout",
     "output_type": "stream",
     "text": [
      "['draft_id', 'num_turns', 'on_play', 'won', 'user_turn_1_eot_user_cards_in_hand', 'user_turn_1_eot_user_lands_in_play', 'user_turn_1_eot_user_creatures_in_play', 'user_turn_1_eot_user_non_creatures_in_play', 'user_turn_1_eot_user_life', 'oppo_turn_1_eot_oppo_cards_in_hand', 'oppo_turn_1_eot_oppo_lands_in_play', 'oppo_turn_1_eot_oppo_creatures_in_play', 'oppo_turn_1_eot_oppo_non_creatures_in_play', 'oppo_turn_1_eot_oppo_life', 'user_turn_2_eot_user_cards_in_hand', 'user_turn_2_eot_user_lands_in_play', 'user_turn_2_eot_user_creatures_in_play', 'user_turn_2_eot_user_non_creatures_in_play', 'user_turn_2_eot_user_life', 'oppo_turn_2_eot_oppo_cards_in_hand', 'oppo_turn_2_eot_oppo_lands_in_play', 'oppo_turn_2_eot_oppo_creatures_in_play', 'oppo_turn_2_eot_oppo_non_creatures_in_play', 'oppo_turn_2_eot_oppo_life', 'user_turn_3_eot_user_cards_in_hand', 'user_turn_3_eot_user_lands_in_play', 'user_turn_3_eot_user_creatures_in_play', 'user_turn_3_eot_user_non_creatures_in_play', 'user_turn_3_eot_user_life', 'oppo_turn_3_eot_oppo_cards_in_hand', 'oppo_turn_3_eot_oppo_lands_in_play', 'oppo_turn_3_eot_oppo_creatures_in_play', 'oppo_turn_3_eot_oppo_non_creatures_in_play', 'oppo_turn_3_eot_oppo_life', 'user_turn_4_eot_user_cards_in_hand', 'user_turn_4_eot_user_lands_in_play', 'user_turn_4_eot_user_creatures_in_play', 'user_turn_4_eot_user_non_creatures_in_play', 'user_turn_4_eot_user_life', 'oppo_turn_4_eot_oppo_cards_in_hand', 'oppo_turn_4_eot_oppo_lands_in_play', 'oppo_turn_4_eot_oppo_creatures_in_play', 'oppo_turn_4_eot_oppo_non_creatures_in_play', 'oppo_turn_4_eot_oppo_life', 'user_turn_5_eot_user_cards_in_hand', 'user_turn_5_eot_user_lands_in_play', 'user_turn_5_eot_user_creatures_in_play', 'user_turn_5_eot_user_non_creatures_in_play', 'user_turn_5_eot_user_life', 'oppo_turn_5_eot_oppo_cards_in_hand', 'oppo_turn_5_eot_oppo_lands_in_play', 'oppo_turn_5_eot_oppo_creatures_in_play', 'oppo_turn_5_eot_oppo_non_creatures_in_play', 'oppo_turn_5_eot_oppo_life', 'user_turn_6_eot_user_cards_in_hand', 'user_turn_6_eot_user_lands_in_play', 'user_turn_6_eot_user_creatures_in_play', 'user_turn_6_eot_user_non_creatures_in_play', 'user_turn_6_eot_user_life', 'oppo_turn_6_eot_oppo_cards_in_hand', 'oppo_turn_6_eot_oppo_lands_in_play', 'oppo_turn_6_eot_oppo_creatures_in_play', 'oppo_turn_6_eot_oppo_non_creatures_in_play', 'oppo_turn_6_eot_oppo_life', 'user_turn_7_eot_user_cards_in_hand', 'user_turn_7_eot_user_lands_in_play', 'user_turn_7_eot_user_creatures_in_play', 'user_turn_7_eot_user_non_creatures_in_play', 'user_turn_7_eot_user_life', 'oppo_turn_7_eot_oppo_cards_in_hand', 'oppo_turn_7_eot_oppo_lands_in_play', 'oppo_turn_7_eot_oppo_creatures_in_play', 'oppo_turn_7_eot_oppo_non_creatures_in_play', 'oppo_turn_7_eot_oppo_life', 'user_turn_8_eot_user_cards_in_hand', 'user_turn_8_eot_user_lands_in_play', 'user_turn_8_eot_user_creatures_in_play', 'user_turn_8_eot_user_non_creatures_in_play', 'user_turn_8_eot_user_life', 'oppo_turn_8_eot_oppo_cards_in_hand', 'oppo_turn_8_eot_oppo_lands_in_play', 'oppo_turn_8_eot_oppo_creatures_in_play', 'oppo_turn_8_eot_oppo_non_creatures_in_play', 'oppo_turn_8_eot_oppo_life', 'user_turn_9_eot_user_cards_in_hand', 'user_turn_9_eot_user_lands_in_play', 'user_turn_9_eot_user_creatures_in_play', 'user_turn_9_eot_user_non_creatures_in_play', 'user_turn_9_eot_user_life', 'oppo_turn_9_eot_oppo_cards_in_hand', 'oppo_turn_9_eot_oppo_lands_in_play', 'oppo_turn_9_eot_oppo_creatures_in_play', 'oppo_turn_9_eot_oppo_non_creatures_in_play', 'oppo_turn_9_eot_oppo_life', 'user_turn_10_eot_user_cards_in_hand', 'user_turn_10_eot_user_lands_in_play', 'user_turn_10_eot_user_creatures_in_play', 'user_turn_10_eot_user_non_creatures_in_play', 'user_turn_10_eot_user_life', 'oppo_turn_10_eot_oppo_cards_in_hand', 'oppo_turn_10_eot_oppo_lands_in_play', 'oppo_turn_10_eot_oppo_creatures_in_play', 'oppo_turn_10_eot_oppo_non_creatures_in_play', 'oppo_turn_10_eot_oppo_life', 'user_turn_11_eot_user_cards_in_hand', 'user_turn_11_eot_user_lands_in_play', 'user_turn_11_eot_user_creatures_in_play', 'user_turn_11_eot_user_non_creatures_in_play', 'user_turn_11_eot_user_life', 'oppo_turn_11_eot_oppo_cards_in_hand', 'oppo_turn_11_eot_oppo_lands_in_play', 'oppo_turn_11_eot_oppo_creatures_in_play', 'oppo_turn_11_eot_oppo_non_creatures_in_play', 'oppo_turn_11_eot_oppo_life', 'user_turn_12_eot_user_cards_in_hand', 'user_turn_12_eot_user_lands_in_play', 'user_turn_12_eot_user_creatures_in_play', 'user_turn_12_eot_user_non_creatures_in_play', 'user_turn_12_eot_user_life', 'oppo_turn_12_eot_oppo_cards_in_hand', 'oppo_turn_12_eot_oppo_lands_in_play', 'oppo_turn_12_eot_oppo_creatures_in_play', 'oppo_turn_12_eot_oppo_non_creatures_in_play', 'oppo_turn_12_eot_oppo_life', 'user_turn_13_eot_user_cards_in_hand', 'user_turn_13_eot_user_lands_in_play', 'user_turn_13_eot_user_creatures_in_play', 'user_turn_13_eot_user_non_creatures_in_play', 'user_turn_13_eot_user_life', 'oppo_turn_13_eot_oppo_cards_in_hand', 'oppo_turn_13_eot_oppo_lands_in_play', 'oppo_turn_13_eot_oppo_creatures_in_play', 'oppo_turn_13_eot_oppo_non_creatures_in_play', 'oppo_turn_13_eot_oppo_life', 'user_turn_14_eot_user_cards_in_hand', 'user_turn_14_eot_user_lands_in_play', 'user_turn_14_eot_user_creatures_in_play', 'user_turn_14_eot_user_non_creatures_in_play', 'user_turn_14_eot_user_life', 'oppo_turn_14_eot_oppo_cards_in_hand', 'oppo_turn_14_eot_oppo_lands_in_play', 'oppo_turn_14_eot_oppo_creatures_in_play', 'oppo_turn_14_eot_oppo_non_creatures_in_play', 'oppo_turn_14_eot_oppo_life', 'user_turn_15_eot_user_cards_in_hand', 'user_turn_15_eot_user_lands_in_play', 'user_turn_15_eot_user_creatures_in_play', 'user_turn_15_eot_user_non_creatures_in_play', 'user_turn_15_eot_user_life', 'oppo_turn_15_eot_oppo_cards_in_hand', 'oppo_turn_15_eot_oppo_lands_in_play', 'oppo_turn_15_eot_oppo_creatures_in_play', 'oppo_turn_15_eot_oppo_non_creatures_in_play', 'oppo_turn_15_eot_oppo_life', 'user_turn_16_eot_user_cards_in_hand', 'user_turn_16_eot_user_lands_in_play', 'user_turn_16_eot_user_creatures_in_play', 'user_turn_16_eot_user_non_creatures_in_play', 'user_turn_16_eot_user_life', 'oppo_turn_16_eot_oppo_cards_in_hand', 'oppo_turn_16_eot_oppo_lands_in_play', 'oppo_turn_16_eot_oppo_creatures_in_play', 'oppo_turn_16_eot_oppo_non_creatures_in_play', 'oppo_turn_16_eot_oppo_life', 'user_turn_17_eot_user_cards_in_hand', 'user_turn_17_eot_user_lands_in_play', 'user_turn_17_eot_user_creatures_in_play', 'user_turn_17_eot_user_non_creatures_in_play', 'user_turn_17_eot_user_life', 'oppo_turn_17_eot_oppo_cards_in_hand', 'oppo_turn_17_eot_oppo_lands_in_play', 'oppo_turn_17_eot_oppo_creatures_in_play', 'oppo_turn_17_eot_oppo_non_creatures_in_play', 'oppo_turn_17_eot_oppo_life', 'user_turn_18_eot_user_cards_in_hand', 'user_turn_18_eot_user_lands_in_play', 'user_turn_18_eot_user_creatures_in_play', 'user_turn_18_eot_user_non_creatures_in_play', 'user_turn_18_eot_user_life', 'oppo_turn_18_eot_oppo_cards_in_hand', 'oppo_turn_18_eot_oppo_lands_in_play', 'oppo_turn_18_eot_oppo_creatures_in_play', 'oppo_turn_18_eot_oppo_non_creatures_in_play', 'oppo_turn_18_eot_oppo_life', 'user_turn_19_eot_user_cards_in_hand', 'user_turn_19_eot_user_lands_in_play', 'user_turn_19_eot_user_creatures_in_play', 'user_turn_19_eot_user_non_creatures_in_play', 'user_turn_19_eot_user_life', 'oppo_turn_19_eot_oppo_cards_in_hand', 'oppo_turn_19_eot_oppo_lands_in_play', 'oppo_turn_19_eot_oppo_creatures_in_play', 'oppo_turn_19_eot_oppo_non_creatures_in_play', 'oppo_turn_19_eot_oppo_life', 'user_turn_20_eot_user_cards_in_hand', 'user_turn_20_eot_user_lands_in_play', 'user_turn_20_eot_user_creatures_in_play', 'user_turn_20_eot_user_non_creatures_in_play', 'user_turn_20_eot_user_life', 'oppo_turn_20_eot_oppo_cards_in_hand', 'oppo_turn_20_eot_oppo_lands_in_play', 'oppo_turn_20_eot_oppo_creatures_in_play', 'oppo_turn_20_eot_oppo_non_creatures_in_play', 'oppo_turn_20_eot_oppo_life']\n"
     ]
    }
   ],
   "source": [
    "def get_input_columns(num_turns):\n",
    "    static_columns = ['draft_id', 'num_turns', 'on_play', 'won']\n",
    "    dynamic_columns = []\n",
    "    \n",
    "    for turn in range(1, num_turns + 1):\n",
    "        for player in ['user', 'oppo']:\n",
    "            dynamic_columns.extend([\n",
    "                f'{player}_turn_{turn}_eot_{player}_cards_in_hand',\n",
    "                f'{player}_turn_{turn}_eot_{player}_lands_in_play',\n",
    "                f'{player}_turn_{turn}_eot_{player}_creatures_in_play',\n",
    "                f'{player}_turn_{turn}_eot_{player}_non_creatures_in_play',\n",
    "                f'{player}_turn_{turn}_eot_{player}_life',\n",
    "            ])\n",
    "    \n",
    "    return static_columns + dynamic_columns\n",
    "\n",
    "# Example: Get input columns for 10 turns\n",
    "input_columns = get_input_columns(num_turns=20)\n",
    "print(input_columns)\n"
   ]
  },
  {
   "cell_type": "code",
   "execution_count": 4,
   "metadata": {},
   "outputs": [
    {
     "name": "stdout",
     "output_type": "stream",
     "text": [
      "Reading file: ..\\data\\replay_data\\replay_data_public.BLB.PremierDraft.csv\n"
     ]
    },
    {
     "name": "stderr",
     "output_type": "stream",
     "text": [
      "C:\\Users\\jwright\\AppData\\Local\\Temp\\ipykernel_28352\\296510522.py:27: DtypeWarning: Columns (54,85,116,147,798,854,860,891,916,922,953,978,982,984,1013,1015,1040,1042,1044,1046,1073,1075,1077,1102,1104,1106,1108,1135,1137,1139,1164,1166,1168,1170,1197,1199,1201,1226,1228,1230,1232,1259,1261,1263) have mixed types. Specify dtype option on import or set low_memory=False.\n",
      "  all_replay_data = pd.read_csv(file_path, usecols= input_columns, nrows=22000)\n"
     ]
    },
    {
     "name": "stdout",
     "output_type": "stream",
     "text": [
      "Reading file: ..\\data\\replay_data\\replay_data_public.DMU.PremierDraft.csv\n"
     ]
    },
    {
     "name": "stderr",
     "output_type": "stream",
     "text": [
      "C:\\Users\\jwright\\AppData\\Local\\Temp\\ipykernel_28352\\296510522.py:30: DtypeWarning: Columns (114,146,176,208,238,270,300,332,362,394,486,734,766,796,828,858,890,920,952,982,1014,1038,1042,1044,1074,1076,1100,1102,1104,1106,1138,1162,1164,1166,1168,1196,1198,1200,1224,1226,1228,1230,1258,1260,1262) have mixed types. Specify dtype option on import or set low_memory=False.\n",
      "  new_data = pd.read_csv(file_path, usecols=input_columns, nrows=22000)\n"
     ]
    },
    {
     "name": "stdout",
     "output_type": "stream",
     "text": [
      "Reading file: ..\\data\\replay_data\\replay_data_public.DSK.PremierDraft.csv\n"
     ]
    },
    {
     "name": "stderr",
     "output_type": "stream",
     "text": [
      "C:\\Users\\jwright\\AppData\\Local\\Temp\\ipykernel_28352\\296510522.py:30: DtypeWarning: Columns (85,116,147,891,916,922,951,953,978,980,982,984,1011,1013,1015,1040,1042,1044,1046,1073,1075,1077,1102,1104,1106,1108,1135,1137,1139,1164,1166,1168,1170,1197,1199,1201,1226,1228,1230,1232,1259,1261,1263) have mixed types. Specify dtype option on import or set low_memory=False.\n",
      "  new_data = pd.read_csv(file_path, usecols=input_columns, nrows=22000)\n"
     ]
    },
    {
     "name": "stdout",
     "output_type": "stream",
     "text": [
      "Reading file: ..\\data\\replay_data\\replay_data_public.FDN.PremierDraft.csv\n"
     ]
    },
    {
     "name": "stderr",
     "output_type": "stream",
     "text": [
      "C:\\Users\\jwright\\AppData\\Local\\Temp\\ipykernel_28352\\296510522.py:30: DtypeWarning: Columns (54,85,116,147,178,209,240,798,829,860,891,916,922,953,978,984,1013,1015,1040,1042,1044,1046,1073,1075,1077,1102,1104,1106,1108,1135,1137,1139,1164,1166,1168,1170,1197,1199,1201,1226,1228,1230,1232,1259,1261,1263) have mixed types. Specify dtype option on import or set low_memory=False.\n",
      "  new_data = pd.read_csv(file_path, usecols=input_columns, nrows=22000)\n"
     ]
    },
    {
     "name": "stdout",
     "output_type": "stream",
     "text": [
      "Reading file: ..\\data\\replay_data\\replay_data_public.MH3.PremierDraft.csv\n"
     ]
    },
    {
     "name": "stderr",
     "output_type": "stream",
     "text": [
      "C:\\Users\\jwright\\AppData\\Local\\Temp\\ipykernel_28352\\296510522.py:30: DtypeWarning: Columns (50,81,116,147,736,798,829,854,860,891,916,920,922,951,953,978,980,982,984,1011,1013,1015,1040,1042,1044,1046,1073,1075,1077,1102,1104,1106,1108,1135,1137,1139,1164,1166,1168,1170,1197,1199,1201,1226,1228,1230,1232,1259,1261,1263) have mixed types. Specify dtype option on import or set low_memory=False.\n",
      "  new_data = pd.read_csv(file_path, usecols=input_columns, nrows=22000)\n"
     ]
    },
    {
     "name": "stdout",
     "output_type": "stream",
     "text": [
      "Reading file: ..\\data\\replay_data\\replay_data_public.MOM.PremierDraft.csv\n"
     ]
    },
    {
     "name": "stderr",
     "output_type": "stream",
     "text": [
      "C:\\Users\\jwright\\AppData\\Local\\Temp\\ipykernel_28352\\296510522.py:30: DtypeWarning: Columns (117,879,943,982,1007,1013,1046,1071,1075,1077,1108,1110,1135,1137,1139,1141,1170,1172,1174,1199,1201,1203,1205,1234,1236,1238,1263,1265,1267,1269,1298,1300,1302) have mixed types. Specify dtype option on import or set low_memory=False.\n",
      "  new_data = pd.read_csv(file_path, usecols=input_columns, nrows=22000)\n"
     ]
    },
    {
     "name": "stdout",
     "output_type": "stream",
     "text": [
      "Reading file: ..\\data\\replay_data\\replay_data_public.OTJ.PremierDraft.csv\n"
     ]
    },
    {
     "name": "stderr",
     "output_type": "stream",
     "text": [
      "C:\\Users\\jwright\\AppData\\Local\\Temp\\ipykernel_28352\\296510522.py:30: DtypeWarning: Columns (116,147,178,209,240,860,891,916,922,953,978,984,1015,1040,1042,1044,1046,1075,1077,1102,1104,1106,1108,1135,1137,1139,1164,1166,1168,1170,1197,1199,1201,1226,1228,1230,1232,1259,1261,1263) have mixed types. Specify dtype option on import or set low_memory=False.\n",
      "  new_data = pd.read_csv(file_path, usecols=input_columns, nrows=22000)\n"
     ]
    },
    {
     "name": "stdout",
     "output_type": "stream",
     "text": [
      "Reading file: ..\\data\\replay_data\\replay_data_public.SIR.PremierDraft.csv\n"
     ]
    },
    {
     "name": "stderr",
     "output_type": "stream",
     "text": [
      "C:\\Users\\jwright\\AppData\\Local\\Temp\\ipykernel_28352\\296510522.py:30: DtypeWarning: Columns (117,150,918,943,949,982,1007,1009,1011,1013,1042,1044,1046,1071,1073,1075,1077,1106,1108,1110,1135,1137,1139,1141,1170,1172,1174,1199,1201,1203,1205,1234,1236,1238,1263,1265,1267,1269,1298,1300,1302) have mixed types. Specify dtype option on import or set low_memory=False.\n",
      "  new_data = pd.read_csv(file_path, usecols=input_columns, nrows=22000)\n"
     ]
    },
    {
     "name": "stdout",
     "output_type": "stream",
     "text": [
      "Reading file: ..\\data\\replay_data\\replay_data_public.WOE.PremierDraft.csv\n"
     ]
    },
    {
     "name": "stderr",
     "output_type": "stream",
     "text": [
      "C:\\Users\\jwright\\AppData\\Local\\Temp\\ipykernel_28352\\296510522.py:30: DtypeWarning: Columns (87,880,944,950,983,1008,1014,1045,1047,1072,1074,1076,1078,1107,1109,1111,1136,1138,1140,1142,1171,1173,1175,1200,1202,1204,1206,1235,1237,1239,1264,1266,1268,1270,1299,1301,1303) have mixed types. Specify dtype option on import or set low_memory=False.\n",
      "  new_data = pd.read_csv(file_path, usecols=input_columns, nrows=22000)\n"
     ]
    }
   ],
   "source": [
    "\n",
    "# List files in '../data/replay_data'\n",
    "replay_data_dir = os.path.join('..', 'data', 'replay_data')\n",
    "\n",
    "# Ensure the directory exists before listing files\n",
    "if not os.path.exists(replay_data_dir):\n",
    "    raise FileNotFoundError(f\"Directory does not exist: {replay_data_dir}\")\n",
    "\n",
    "replay_data_files = os.listdir(replay_data_dir)\n",
    "\n",
    "# Initialize the DataFrame to None\n",
    "all_replay_data = None\n",
    "\n",
    "# Process files in the directory\n",
    "for f in replay_data_files:\n",
    "    if 'data_public' in f:\n",
    "        file_path = os.path.join(replay_data_dir, f)\n",
    "        \n",
    "        # Ensure the file exists before reading\n",
    "        if not os.path.isfile(file_path):\n",
    "            print(f\"File not found, skipping: {file_path}\")\n",
    "            continue\n",
    "\n",
    "        print(f\"Reading file: {file_path}\")\n",
    "        try:\n",
    "            if all_replay_data is None:\n",
    "                # Initialize the DataFrame with the first file\n",
    "                all_replay_data = pd.read_csv(file_path, usecols= input_columns, nrows=22000)\n",
    "            else:\n",
    "                # Concatenate subsequent files\n",
    "                new_data = pd.read_csv(file_path, usecols=input_columns, nrows=22000)\n",
    "                all_replay_data = pd.concat([all_replay_data, new_data], ignore_index=True)\n",
    "        except Exception as e:\n",
    "            print(f\"Error reading file {file_path}: {e}\")"
   ]
  },
  {
   "cell_type": "code",
   "execution_count": 5,
   "metadata": {},
   "outputs": [
    {
     "data": {
      "text/html": [
       "<div>\n",
       "<style scoped>\n",
       "    .dataframe tbody tr th:only-of-type {\n",
       "        vertical-align: middle;\n",
       "    }\n",
       "\n",
       "    .dataframe tbody tr th {\n",
       "        vertical-align: top;\n",
       "    }\n",
       "\n",
       "    .dataframe thead th {\n",
       "        text-align: right;\n",
       "    }\n",
       "</style>\n",
       "<table border=\"1\" class=\"dataframe\">\n",
       "  <thead>\n",
       "    <tr style=\"text-align: right;\">\n",
       "      <th></th>\n",
       "      <th>draft_id</th>\n",
       "      <th>on_play</th>\n",
       "      <th>num_turns</th>\n",
       "      <th>won</th>\n",
       "      <th>user_turn_1_eot_user_cards_in_hand</th>\n",
       "      <th>user_turn_1_eot_user_lands_in_play</th>\n",
       "      <th>user_turn_1_eot_user_creatures_in_play</th>\n",
       "      <th>user_turn_1_eot_user_non_creatures_in_play</th>\n",
       "      <th>user_turn_1_eot_user_life</th>\n",
       "      <th>oppo_turn_1_eot_oppo_cards_in_hand</th>\n",
       "      <th>...</th>\n",
       "      <th>user_turn_20_eot_user_cards_in_hand</th>\n",
       "      <th>user_turn_20_eot_user_lands_in_play</th>\n",
       "      <th>user_turn_20_eot_user_creatures_in_play</th>\n",
       "      <th>user_turn_20_eot_user_non_creatures_in_play</th>\n",
       "      <th>user_turn_20_eot_user_life</th>\n",
       "      <th>oppo_turn_20_eot_oppo_cards_in_hand</th>\n",
       "      <th>oppo_turn_20_eot_oppo_lands_in_play</th>\n",
       "      <th>oppo_turn_20_eot_oppo_creatures_in_play</th>\n",
       "      <th>oppo_turn_20_eot_oppo_non_creatures_in_play</th>\n",
       "      <th>oppo_turn_20_eot_oppo_life</th>\n",
       "    </tr>\n",
       "  </thead>\n",
       "  <tbody>\n",
       "    <tr>\n",
       "      <th>0</th>\n",
       "      <td>deaa4cdcd3e84d8e8b5a0ea34a0f9d79</td>\n",
       "      <td>True</td>\n",
       "      <td>5</td>\n",
       "      <td>True</td>\n",
       "      <td>91632|91732|91734|76852|76855|91633</td>\n",
       "      <td>76855.0</td>\n",
       "      <td>NaN</td>\n",
       "      <td>NaN</td>\n",
       "      <td>20.0</td>\n",
       "      <td>6.0</td>\n",
       "      <td>...</td>\n",
       "      <td>NaN</td>\n",
       "      <td>NaN</td>\n",
       "      <td>NaN</td>\n",
       "      <td>NaN</td>\n",
       "      <td>0.0</td>\n",
       "      <td>0.0</td>\n",
       "      <td>NaN</td>\n",
       "      <td>NaN</td>\n",
       "      <td>NaN</td>\n",
       "      <td>0.0</td>\n",
       "    </tr>\n",
       "    <tr>\n",
       "      <th>1</th>\n",
       "      <td>deaa4cdcd3e84d8e8b5a0ea34a0f9d79</td>\n",
       "      <td>True</td>\n",
       "      <td>10</td>\n",
       "      <td>True</td>\n",
       "      <td>91710|76852|91698|91633|76855|76855</td>\n",
       "      <td>76855.0</td>\n",
       "      <td>NaN</td>\n",
       "      <td>NaN</td>\n",
       "      <td>20.0</td>\n",
       "      <td>6.0</td>\n",
       "      <td>...</td>\n",
       "      <td>NaN</td>\n",
       "      <td>NaN</td>\n",
       "      <td>NaN</td>\n",
       "      <td>NaN</td>\n",
       "      <td>0.0</td>\n",
       "      <td>0.0</td>\n",
       "      <td>NaN</td>\n",
       "      <td>NaN</td>\n",
       "      <td>NaN</td>\n",
       "      <td>0.0</td>\n",
       "    </tr>\n",
       "    <tr>\n",
       "      <th>2</th>\n",
       "      <td>deaa4cdcd3e84d8e8b5a0ea34a0f9d79</td>\n",
       "      <td>True</td>\n",
       "      <td>11</td>\n",
       "      <td>False</td>\n",
       "      <td>76855|91645|91744|91703|91734</td>\n",
       "      <td>76855.0</td>\n",
       "      <td>NaN</td>\n",
       "      <td>NaN</td>\n",
       "      <td>20.0</td>\n",
       "      <td>7.0</td>\n",
       "      <td>...</td>\n",
       "      <td>NaN</td>\n",
       "      <td>NaN</td>\n",
       "      <td>NaN</td>\n",
       "      <td>NaN</td>\n",
       "      <td>0.0</td>\n",
       "      <td>0.0</td>\n",
       "      <td>NaN</td>\n",
       "      <td>NaN</td>\n",
       "      <td>NaN</td>\n",
       "      <td>0.0</td>\n",
       "    </tr>\n",
       "    <tr>\n",
       "      <th>3</th>\n",
       "      <td>deaa4cdcd3e84d8e8b5a0ea34a0f9d79</td>\n",
       "      <td>False</td>\n",
       "      <td>10</td>\n",
       "      <td>True</td>\n",
       "      <td>76855|91718|91752|76852|91777|91725|76852</td>\n",
       "      <td>76855.0</td>\n",
       "      <td>NaN</td>\n",
       "      <td>NaN</td>\n",
       "      <td>20.0</td>\n",
       "      <td>6.0</td>\n",
       "      <td>...</td>\n",
       "      <td>NaN</td>\n",
       "      <td>NaN</td>\n",
       "      <td>NaN</td>\n",
       "      <td>NaN</td>\n",
       "      <td>0.0</td>\n",
       "      <td>0.0</td>\n",
       "      <td>NaN</td>\n",
       "      <td>NaN</td>\n",
       "      <td>NaN</td>\n",
       "      <td>0.0</td>\n",
       "    </tr>\n",
       "    <tr>\n",
       "      <th>4</th>\n",
       "      <td>deaa4cdcd3e84d8e8b5a0ea34a0f9d79</td>\n",
       "      <td>False</td>\n",
       "      <td>6</td>\n",
       "      <td>False</td>\n",
       "      <td>76852|91721|91752|76855|91734|76855|91633</td>\n",
       "      <td>76855.0</td>\n",
       "      <td>NaN</td>\n",
       "      <td>NaN</td>\n",
       "      <td>20.0</td>\n",
       "      <td>6.0</td>\n",
       "      <td>...</td>\n",
       "      <td>NaN</td>\n",
       "      <td>NaN</td>\n",
       "      <td>NaN</td>\n",
       "      <td>NaN</td>\n",
       "      <td>0.0</td>\n",
       "      <td>0.0</td>\n",
       "      <td>NaN</td>\n",
       "      <td>NaN</td>\n",
       "      <td>NaN</td>\n",
       "      <td>0.0</td>\n",
       "    </tr>\n",
       "    <tr>\n",
       "      <th>...</th>\n",
       "      <td>...</td>\n",
       "      <td>...</td>\n",
       "      <td>...</td>\n",
       "      <td>...</td>\n",
       "      <td>...</td>\n",
       "      <td>...</td>\n",
       "      <td>...</td>\n",
       "      <td>...</td>\n",
       "      <td>...</td>\n",
       "      <td>...</td>\n",
       "      <td>...</td>\n",
       "      <td>...</td>\n",
       "      <td>...</td>\n",
       "      <td>...</td>\n",
       "      <td>...</td>\n",
       "      <td>...</td>\n",
       "      <td>...</td>\n",
       "      <td>...</td>\n",
       "      <td>...</td>\n",
       "      <td>...</td>\n",
       "      <td>...</td>\n",
       "    </tr>\n",
       "    <tr>\n",
       "      <th>197995</th>\n",
       "      <td>1aa145a4542e499db2ad12490550d3f7</td>\n",
       "      <td>True</td>\n",
       "      <td>6</td>\n",
       "      <td>False</td>\n",
       "      <td>82392|86800|82394|86796|86791</td>\n",
       "      <td>82394.0</td>\n",
       "      <td>NaN</td>\n",
       "      <td>87035.0</td>\n",
       "      <td>20.0</td>\n",
       "      <td>7.0</td>\n",
       "      <td>...</td>\n",
       "      <td>NaN</td>\n",
       "      <td>NaN</td>\n",
       "      <td>NaN</td>\n",
       "      <td>NaN</td>\n",
       "      <td>0.0</td>\n",
       "      <td>0.0</td>\n",
       "      <td>NaN</td>\n",
       "      <td>NaN</td>\n",
       "      <td>NaN</td>\n",
       "      <td>0.0</td>\n",
       "    </tr>\n",
       "    <tr>\n",
       "      <th>197996</th>\n",
       "      <td>8d4549afb5ea45ee93673c667ffe0fc7</td>\n",
       "      <td>False</td>\n",
       "      <td>8</td>\n",
       "      <td>False</td>\n",
       "      <td>86970|86701|86729|86725|82391|86700|86738</td>\n",
       "      <td>82390.0</td>\n",
       "      <td>NaN</td>\n",
       "      <td>NaN</td>\n",
       "      <td>19.0</td>\n",
       "      <td>5.0</td>\n",
       "      <td>...</td>\n",
       "      <td>NaN</td>\n",
       "      <td>NaN</td>\n",
       "      <td>NaN</td>\n",
       "      <td>NaN</td>\n",
       "      <td>0.0</td>\n",
       "      <td>0.0</td>\n",
       "      <td>NaN</td>\n",
       "      <td>NaN</td>\n",
       "      <td>NaN</td>\n",
       "      <td>0.0</td>\n",
       "    </tr>\n",
       "    <tr>\n",
       "      <th>197997</th>\n",
       "      <td>8d4549afb5ea45ee93673c667ffe0fc7</td>\n",
       "      <td>False</td>\n",
       "      <td>7</td>\n",
       "      <td>True</td>\n",
       "      <td>86686|86694|82391|86770|82390|86729|86725</td>\n",
       "      <td>82391.0</td>\n",
       "      <td>NaN</td>\n",
       "      <td>NaN</td>\n",
       "      <td>20.0</td>\n",
       "      <td>6.0</td>\n",
       "      <td>...</td>\n",
       "      <td>NaN</td>\n",
       "      <td>NaN</td>\n",
       "      <td>NaN</td>\n",
       "      <td>NaN</td>\n",
       "      <td>0.0</td>\n",
       "      <td>0.0</td>\n",
       "      <td>NaN</td>\n",
       "      <td>NaN</td>\n",
       "      <td>NaN</td>\n",
       "      <td>0.0</td>\n",
       "    </tr>\n",
       "    <tr>\n",
       "      <th>197998</th>\n",
       "      <td>8d4549afb5ea45ee93673c667ffe0fc7</td>\n",
       "      <td>False</td>\n",
       "      <td>6</td>\n",
       "      <td>False</td>\n",
       "      <td>86694|82390|86702|86701|86683|86706|86770</td>\n",
       "      <td>82391.0</td>\n",
       "      <td>NaN</td>\n",
       "      <td>NaN</td>\n",
       "      <td>20.0</td>\n",
       "      <td>5.0</td>\n",
       "      <td>...</td>\n",
       "      <td>NaN</td>\n",
       "      <td>NaN</td>\n",
       "      <td>NaN</td>\n",
       "      <td>NaN</td>\n",
       "      <td>0.0</td>\n",
       "      <td>0.0</td>\n",
       "      <td>NaN</td>\n",
       "      <td>NaN</td>\n",
       "      <td>NaN</td>\n",
       "      <td>0.0</td>\n",
       "    </tr>\n",
       "    <tr>\n",
       "      <th>197999</th>\n",
       "      <td>724b832d9672411db5555501dcf83a0c</td>\n",
       "      <td>True</td>\n",
       "      <td>9</td>\n",
       "      <td>False</td>\n",
       "      <td>86890|86887|86960|86976|82394|82394</td>\n",
       "      <td>82394.0</td>\n",
       "      <td>NaN</td>\n",
       "      <td>NaN</td>\n",
       "      <td>20.0</td>\n",
       "      <td>6.0</td>\n",
       "      <td>...</td>\n",
       "      <td>NaN</td>\n",
       "      <td>NaN</td>\n",
       "      <td>NaN</td>\n",
       "      <td>NaN</td>\n",
       "      <td>0.0</td>\n",
       "      <td>0.0</td>\n",
       "      <td>NaN</td>\n",
       "      <td>NaN</td>\n",
       "      <td>NaN</td>\n",
       "      <td>0.0</td>\n",
       "    </tr>\n",
       "  </tbody>\n",
       "</table>\n",
       "<p>198000 rows × 204 columns</p>\n",
       "</div>"
      ],
      "text/plain": [
       "                                draft_id  on_play  num_turns    won  \\\n",
       "0       deaa4cdcd3e84d8e8b5a0ea34a0f9d79     True          5   True   \n",
       "1       deaa4cdcd3e84d8e8b5a0ea34a0f9d79     True         10   True   \n",
       "2       deaa4cdcd3e84d8e8b5a0ea34a0f9d79     True         11  False   \n",
       "3       deaa4cdcd3e84d8e8b5a0ea34a0f9d79    False         10   True   \n",
       "4       deaa4cdcd3e84d8e8b5a0ea34a0f9d79    False          6  False   \n",
       "...                                  ...      ...        ...    ...   \n",
       "197995  1aa145a4542e499db2ad12490550d3f7     True          6  False   \n",
       "197996  8d4549afb5ea45ee93673c667ffe0fc7    False          8  False   \n",
       "197997  8d4549afb5ea45ee93673c667ffe0fc7    False          7   True   \n",
       "197998  8d4549afb5ea45ee93673c667ffe0fc7    False          6  False   \n",
       "197999  724b832d9672411db5555501dcf83a0c     True          9  False   \n",
       "\n",
       "               user_turn_1_eot_user_cards_in_hand  \\\n",
       "0             91632|91732|91734|76852|76855|91633   \n",
       "1             91710|76852|91698|91633|76855|76855   \n",
       "2                   76855|91645|91744|91703|91734   \n",
       "3       76855|91718|91752|76852|91777|91725|76852   \n",
       "4       76852|91721|91752|76855|91734|76855|91633   \n",
       "...                                           ...   \n",
       "197995              82392|86800|82394|86796|86791   \n",
       "197996  86970|86701|86729|86725|82391|86700|86738   \n",
       "197997  86686|86694|82391|86770|82390|86729|86725   \n",
       "197998  86694|82390|86702|86701|86683|86706|86770   \n",
       "197999        86890|86887|86960|86976|82394|82394   \n",
       "\n",
       "       user_turn_1_eot_user_lands_in_play  \\\n",
       "0                                 76855.0   \n",
       "1                                 76855.0   \n",
       "2                                 76855.0   \n",
       "3                                 76855.0   \n",
       "4                                 76855.0   \n",
       "...                                   ...   \n",
       "197995                            82394.0   \n",
       "197996                            82390.0   \n",
       "197997                            82391.0   \n",
       "197998                            82391.0   \n",
       "197999                            82394.0   \n",
       "\n",
       "        user_turn_1_eot_user_creatures_in_play  \\\n",
       "0                                          NaN   \n",
       "1                                          NaN   \n",
       "2                                          NaN   \n",
       "3                                          NaN   \n",
       "4                                          NaN   \n",
       "...                                        ...   \n",
       "197995                                     NaN   \n",
       "197996                                     NaN   \n",
       "197997                                     NaN   \n",
       "197998                                     NaN   \n",
       "197999                                     NaN   \n",
       "\n",
       "       user_turn_1_eot_user_non_creatures_in_play  user_turn_1_eot_user_life  \\\n",
       "0                                             NaN                       20.0   \n",
       "1                                             NaN                       20.0   \n",
       "2                                             NaN                       20.0   \n",
       "3                                             NaN                       20.0   \n",
       "4                                             NaN                       20.0   \n",
       "...                                           ...                        ...   \n",
       "197995                                    87035.0                       20.0   \n",
       "197996                                        NaN                       19.0   \n",
       "197997                                        NaN                       20.0   \n",
       "197998                                        NaN                       20.0   \n",
       "197999                                        NaN                       20.0   \n",
       "\n",
       "        oppo_turn_1_eot_oppo_cards_in_hand  ...  \\\n",
       "0                                      6.0  ...   \n",
       "1                                      6.0  ...   \n",
       "2                                      7.0  ...   \n",
       "3                                      6.0  ...   \n",
       "4                                      6.0  ...   \n",
       "...                                    ...  ...   \n",
       "197995                                 7.0  ...   \n",
       "197996                                 5.0  ...   \n",
       "197997                                 6.0  ...   \n",
       "197998                                 5.0  ...   \n",
       "197999                                 6.0  ...   \n",
       "\n",
       "       user_turn_20_eot_user_cards_in_hand  \\\n",
       "0                                      NaN   \n",
       "1                                      NaN   \n",
       "2                                      NaN   \n",
       "3                                      NaN   \n",
       "4                                      NaN   \n",
       "...                                    ...   \n",
       "197995                                 NaN   \n",
       "197996                                 NaN   \n",
       "197997                                 NaN   \n",
       "197998                                 NaN   \n",
       "197999                                 NaN   \n",
       "\n",
       "        user_turn_20_eot_user_lands_in_play  \\\n",
       "0                                       NaN   \n",
       "1                                       NaN   \n",
       "2                                       NaN   \n",
       "3                                       NaN   \n",
       "4                                       NaN   \n",
       "...                                     ...   \n",
       "197995                                  NaN   \n",
       "197996                                  NaN   \n",
       "197997                                  NaN   \n",
       "197998                                  NaN   \n",
       "197999                                  NaN   \n",
       "\n",
       "       user_turn_20_eot_user_creatures_in_play  \\\n",
       "0                                          NaN   \n",
       "1                                          NaN   \n",
       "2                                          NaN   \n",
       "3                                          NaN   \n",
       "4                                          NaN   \n",
       "...                                        ...   \n",
       "197995                                     NaN   \n",
       "197996                                     NaN   \n",
       "197997                                     NaN   \n",
       "197998                                     NaN   \n",
       "197999                                     NaN   \n",
       "\n",
       "        user_turn_20_eot_user_non_creatures_in_play  \\\n",
       "0                                               NaN   \n",
       "1                                               NaN   \n",
       "2                                               NaN   \n",
       "3                                               NaN   \n",
       "4                                               NaN   \n",
       "...                                             ...   \n",
       "197995                                          NaN   \n",
       "197996                                          NaN   \n",
       "197997                                          NaN   \n",
       "197998                                          NaN   \n",
       "197999                                          NaN   \n",
       "\n",
       "       user_turn_20_eot_user_life oppo_turn_20_eot_oppo_cards_in_hand  \\\n",
       "0                             0.0                                 0.0   \n",
       "1                             0.0                                 0.0   \n",
       "2                             0.0                                 0.0   \n",
       "3                             0.0                                 0.0   \n",
       "4                             0.0                                 0.0   \n",
       "...                           ...                                 ...   \n",
       "197995                        0.0                                 0.0   \n",
       "197996                        0.0                                 0.0   \n",
       "197997                        0.0                                 0.0   \n",
       "197998                        0.0                                 0.0   \n",
       "197999                        0.0                                 0.0   \n",
       "\n",
       "       oppo_turn_20_eot_oppo_lands_in_play  \\\n",
       "0                                      NaN   \n",
       "1                                      NaN   \n",
       "2                                      NaN   \n",
       "3                                      NaN   \n",
       "4                                      NaN   \n",
       "...                                    ...   \n",
       "197995                                 NaN   \n",
       "197996                                 NaN   \n",
       "197997                                 NaN   \n",
       "197998                                 NaN   \n",
       "197999                                 NaN   \n",
       "\n",
       "       oppo_turn_20_eot_oppo_creatures_in_play  \\\n",
       "0                                          NaN   \n",
       "1                                          NaN   \n",
       "2                                          NaN   \n",
       "3                                          NaN   \n",
       "4                                          NaN   \n",
       "...                                        ...   \n",
       "197995                                     NaN   \n",
       "197996                                     NaN   \n",
       "197997                                     NaN   \n",
       "197998                                     NaN   \n",
       "197999                                     NaN   \n",
       "\n",
       "        oppo_turn_20_eot_oppo_non_creatures_in_play  \\\n",
       "0                                               NaN   \n",
       "1                                               NaN   \n",
       "2                                               NaN   \n",
       "3                                               NaN   \n",
       "4                                               NaN   \n",
       "...                                             ...   \n",
       "197995                                          NaN   \n",
       "197996                                          NaN   \n",
       "197997                                          NaN   \n",
       "197998                                          NaN   \n",
       "197999                                          NaN   \n",
       "\n",
       "        oppo_turn_20_eot_oppo_life  \n",
       "0                              0.0  \n",
       "1                              0.0  \n",
       "2                              0.0  \n",
       "3                              0.0  \n",
       "4                              0.0  \n",
       "...                            ...  \n",
       "197995                         0.0  \n",
       "197996                         0.0  \n",
       "197997                         0.0  \n",
       "197998                         0.0  \n",
       "197999                         0.0  \n",
       "\n",
       "[198000 rows x 204 columns]"
      ]
     },
     "execution_count": 5,
     "metadata": {},
     "output_type": "execute_result"
    }
   ],
   "source": [
    "all_replay_data"
   ]
  },
  {
   "cell_type": "code",
   "execution_count": 6,
   "metadata": {},
   "outputs": [],
   "source": [
    "data = all_replay_data\n"
   ]
  },
  {
   "cell_type": "code",
   "execution_count": 7,
   "metadata": {},
   "outputs": [
    {
     "data": {
      "text/html": [
       "<div>\n",
       "<style scoped>\n",
       "    .dataframe tbody tr th:only-of-type {\n",
       "        vertical-align: middle;\n",
       "    }\n",
       "\n",
       "    .dataframe tbody tr th {\n",
       "        vertical-align: top;\n",
       "    }\n",
       "\n",
       "    .dataframe thead th {\n",
       "        text-align: right;\n",
       "    }\n",
       "</style>\n",
       "<table border=\"1\" class=\"dataframe\">\n",
       "  <thead>\n",
       "    <tr style=\"text-align: right;\">\n",
       "      <th></th>\n",
       "      <th>draft_id</th>\n",
       "      <th>on_play</th>\n",
       "      <th>num_turns</th>\n",
       "      <th>won</th>\n",
       "      <th>user_turn_1_eot_user_cards_in_hand</th>\n",
       "      <th>user_turn_1_eot_user_lands_in_play</th>\n",
       "      <th>user_turn_1_eot_user_creatures_in_play</th>\n",
       "      <th>user_turn_1_eot_user_non_creatures_in_play</th>\n",
       "      <th>user_turn_1_eot_user_life</th>\n",
       "      <th>oppo_turn_1_eot_oppo_cards_in_hand</th>\n",
       "      <th>...</th>\n",
       "      <th>user_turn_20_eot_user_cards_in_hand</th>\n",
       "      <th>user_turn_20_eot_user_lands_in_play</th>\n",
       "      <th>user_turn_20_eot_user_creatures_in_play</th>\n",
       "      <th>user_turn_20_eot_user_non_creatures_in_play</th>\n",
       "      <th>user_turn_20_eot_user_life</th>\n",
       "      <th>oppo_turn_20_eot_oppo_cards_in_hand</th>\n",
       "      <th>oppo_turn_20_eot_oppo_lands_in_play</th>\n",
       "      <th>oppo_turn_20_eot_oppo_creatures_in_play</th>\n",
       "      <th>oppo_turn_20_eot_oppo_non_creatures_in_play</th>\n",
       "      <th>oppo_turn_20_eot_oppo_life</th>\n",
       "    </tr>\n",
       "  </thead>\n",
       "  <tbody>\n",
       "    <tr>\n",
       "      <th>0</th>\n",
       "      <td>deaa4cdcd3e84d8e8b5a0ea34a0f9d79</td>\n",
       "      <td>True</td>\n",
       "      <td>5</td>\n",
       "      <td>True</td>\n",
       "      <td>91632|91732|91734|76852|76855|91633</td>\n",
       "      <td>76855.0</td>\n",
       "      <td>NaN</td>\n",
       "      <td>NaN</td>\n",
       "      <td>20.0</td>\n",
       "      <td>6.0</td>\n",
       "      <td>...</td>\n",
       "      <td>NaN</td>\n",
       "      <td>NaN</td>\n",
       "      <td>NaN</td>\n",
       "      <td>NaN</td>\n",
       "      <td>0.0</td>\n",
       "      <td>0.0</td>\n",
       "      <td>NaN</td>\n",
       "      <td>NaN</td>\n",
       "      <td>NaN</td>\n",
       "      <td>0.0</td>\n",
       "    </tr>\n",
       "    <tr>\n",
       "      <th>1</th>\n",
       "      <td>deaa4cdcd3e84d8e8b5a0ea34a0f9d79</td>\n",
       "      <td>True</td>\n",
       "      <td>10</td>\n",
       "      <td>True</td>\n",
       "      <td>91710|76852|91698|91633|76855|76855</td>\n",
       "      <td>76855.0</td>\n",
       "      <td>NaN</td>\n",
       "      <td>NaN</td>\n",
       "      <td>20.0</td>\n",
       "      <td>6.0</td>\n",
       "      <td>...</td>\n",
       "      <td>NaN</td>\n",
       "      <td>NaN</td>\n",
       "      <td>NaN</td>\n",
       "      <td>NaN</td>\n",
       "      <td>0.0</td>\n",
       "      <td>0.0</td>\n",
       "      <td>NaN</td>\n",
       "      <td>NaN</td>\n",
       "      <td>NaN</td>\n",
       "      <td>0.0</td>\n",
       "    </tr>\n",
       "    <tr>\n",
       "      <th>2</th>\n",
       "      <td>deaa4cdcd3e84d8e8b5a0ea34a0f9d79</td>\n",
       "      <td>True</td>\n",
       "      <td>11</td>\n",
       "      <td>False</td>\n",
       "      <td>76855|91645|91744|91703|91734</td>\n",
       "      <td>76855.0</td>\n",
       "      <td>NaN</td>\n",
       "      <td>NaN</td>\n",
       "      <td>20.0</td>\n",
       "      <td>7.0</td>\n",
       "      <td>...</td>\n",
       "      <td>NaN</td>\n",
       "      <td>NaN</td>\n",
       "      <td>NaN</td>\n",
       "      <td>NaN</td>\n",
       "      <td>0.0</td>\n",
       "      <td>0.0</td>\n",
       "      <td>NaN</td>\n",
       "      <td>NaN</td>\n",
       "      <td>NaN</td>\n",
       "      <td>0.0</td>\n",
       "    </tr>\n",
       "    <tr>\n",
       "      <th>3</th>\n",
       "      <td>deaa4cdcd3e84d8e8b5a0ea34a0f9d79</td>\n",
       "      <td>False</td>\n",
       "      <td>10</td>\n",
       "      <td>True</td>\n",
       "      <td>76855|91718|91752|76852|91777|91725|76852</td>\n",
       "      <td>76855.0</td>\n",
       "      <td>NaN</td>\n",
       "      <td>NaN</td>\n",
       "      <td>20.0</td>\n",
       "      <td>6.0</td>\n",
       "      <td>...</td>\n",
       "      <td>NaN</td>\n",
       "      <td>NaN</td>\n",
       "      <td>NaN</td>\n",
       "      <td>NaN</td>\n",
       "      <td>0.0</td>\n",
       "      <td>0.0</td>\n",
       "      <td>NaN</td>\n",
       "      <td>NaN</td>\n",
       "      <td>NaN</td>\n",
       "      <td>0.0</td>\n",
       "    </tr>\n",
       "    <tr>\n",
       "      <th>4</th>\n",
       "      <td>deaa4cdcd3e84d8e8b5a0ea34a0f9d79</td>\n",
       "      <td>False</td>\n",
       "      <td>6</td>\n",
       "      <td>False</td>\n",
       "      <td>76852|91721|91752|76855|91734|76855|91633</td>\n",
       "      <td>76855.0</td>\n",
       "      <td>NaN</td>\n",
       "      <td>NaN</td>\n",
       "      <td>20.0</td>\n",
       "      <td>6.0</td>\n",
       "      <td>...</td>\n",
       "      <td>NaN</td>\n",
       "      <td>NaN</td>\n",
       "      <td>NaN</td>\n",
       "      <td>NaN</td>\n",
       "      <td>0.0</td>\n",
       "      <td>0.0</td>\n",
       "      <td>NaN</td>\n",
       "      <td>NaN</td>\n",
       "      <td>NaN</td>\n",
       "      <td>0.0</td>\n",
       "    </tr>\n",
       "    <tr>\n",
       "      <th>...</th>\n",
       "      <td>...</td>\n",
       "      <td>...</td>\n",
       "      <td>...</td>\n",
       "      <td>...</td>\n",
       "      <td>...</td>\n",
       "      <td>...</td>\n",
       "      <td>...</td>\n",
       "      <td>...</td>\n",
       "      <td>...</td>\n",
       "      <td>...</td>\n",
       "      <td>...</td>\n",
       "      <td>...</td>\n",
       "      <td>...</td>\n",
       "      <td>...</td>\n",
       "      <td>...</td>\n",
       "      <td>...</td>\n",
       "      <td>...</td>\n",
       "      <td>...</td>\n",
       "      <td>...</td>\n",
       "      <td>...</td>\n",
       "      <td>...</td>\n",
       "    </tr>\n",
       "    <tr>\n",
       "      <th>197995</th>\n",
       "      <td>1aa145a4542e499db2ad12490550d3f7</td>\n",
       "      <td>True</td>\n",
       "      <td>6</td>\n",
       "      <td>False</td>\n",
       "      <td>82392|86800|82394|86796|86791</td>\n",
       "      <td>82394.0</td>\n",
       "      <td>NaN</td>\n",
       "      <td>87035.0</td>\n",
       "      <td>20.0</td>\n",
       "      <td>7.0</td>\n",
       "      <td>...</td>\n",
       "      <td>NaN</td>\n",
       "      <td>NaN</td>\n",
       "      <td>NaN</td>\n",
       "      <td>NaN</td>\n",
       "      <td>0.0</td>\n",
       "      <td>0.0</td>\n",
       "      <td>NaN</td>\n",
       "      <td>NaN</td>\n",
       "      <td>NaN</td>\n",
       "      <td>0.0</td>\n",
       "    </tr>\n",
       "    <tr>\n",
       "      <th>197996</th>\n",
       "      <td>8d4549afb5ea45ee93673c667ffe0fc7</td>\n",
       "      <td>False</td>\n",
       "      <td>8</td>\n",
       "      <td>False</td>\n",
       "      <td>86970|86701|86729|86725|82391|86700|86738</td>\n",
       "      <td>82390.0</td>\n",
       "      <td>NaN</td>\n",
       "      <td>NaN</td>\n",
       "      <td>19.0</td>\n",
       "      <td>5.0</td>\n",
       "      <td>...</td>\n",
       "      <td>NaN</td>\n",
       "      <td>NaN</td>\n",
       "      <td>NaN</td>\n",
       "      <td>NaN</td>\n",
       "      <td>0.0</td>\n",
       "      <td>0.0</td>\n",
       "      <td>NaN</td>\n",
       "      <td>NaN</td>\n",
       "      <td>NaN</td>\n",
       "      <td>0.0</td>\n",
       "    </tr>\n",
       "    <tr>\n",
       "      <th>197997</th>\n",
       "      <td>8d4549afb5ea45ee93673c667ffe0fc7</td>\n",
       "      <td>False</td>\n",
       "      <td>7</td>\n",
       "      <td>True</td>\n",
       "      <td>86686|86694|82391|86770|82390|86729|86725</td>\n",
       "      <td>82391.0</td>\n",
       "      <td>NaN</td>\n",
       "      <td>NaN</td>\n",
       "      <td>20.0</td>\n",
       "      <td>6.0</td>\n",
       "      <td>...</td>\n",
       "      <td>NaN</td>\n",
       "      <td>NaN</td>\n",
       "      <td>NaN</td>\n",
       "      <td>NaN</td>\n",
       "      <td>0.0</td>\n",
       "      <td>0.0</td>\n",
       "      <td>NaN</td>\n",
       "      <td>NaN</td>\n",
       "      <td>NaN</td>\n",
       "      <td>0.0</td>\n",
       "    </tr>\n",
       "    <tr>\n",
       "      <th>197998</th>\n",
       "      <td>8d4549afb5ea45ee93673c667ffe0fc7</td>\n",
       "      <td>False</td>\n",
       "      <td>6</td>\n",
       "      <td>False</td>\n",
       "      <td>86694|82390|86702|86701|86683|86706|86770</td>\n",
       "      <td>82391.0</td>\n",
       "      <td>NaN</td>\n",
       "      <td>NaN</td>\n",
       "      <td>20.0</td>\n",
       "      <td>5.0</td>\n",
       "      <td>...</td>\n",
       "      <td>NaN</td>\n",
       "      <td>NaN</td>\n",
       "      <td>NaN</td>\n",
       "      <td>NaN</td>\n",
       "      <td>0.0</td>\n",
       "      <td>0.0</td>\n",
       "      <td>NaN</td>\n",
       "      <td>NaN</td>\n",
       "      <td>NaN</td>\n",
       "      <td>0.0</td>\n",
       "    </tr>\n",
       "    <tr>\n",
       "      <th>197999</th>\n",
       "      <td>724b832d9672411db5555501dcf83a0c</td>\n",
       "      <td>True</td>\n",
       "      <td>9</td>\n",
       "      <td>False</td>\n",
       "      <td>86890|86887|86960|86976|82394|82394</td>\n",
       "      <td>82394.0</td>\n",
       "      <td>NaN</td>\n",
       "      <td>NaN</td>\n",
       "      <td>20.0</td>\n",
       "      <td>6.0</td>\n",
       "      <td>...</td>\n",
       "      <td>NaN</td>\n",
       "      <td>NaN</td>\n",
       "      <td>NaN</td>\n",
       "      <td>NaN</td>\n",
       "      <td>0.0</td>\n",
       "      <td>0.0</td>\n",
       "      <td>NaN</td>\n",
       "      <td>NaN</td>\n",
       "      <td>NaN</td>\n",
       "      <td>0.0</td>\n",
       "    </tr>\n",
       "  </tbody>\n",
       "</table>\n",
       "<p>198000 rows × 204 columns</p>\n",
       "</div>"
      ],
      "text/plain": [
       "                                draft_id  on_play  num_turns    won  \\\n",
       "0       deaa4cdcd3e84d8e8b5a0ea34a0f9d79     True          5   True   \n",
       "1       deaa4cdcd3e84d8e8b5a0ea34a0f9d79     True         10   True   \n",
       "2       deaa4cdcd3e84d8e8b5a0ea34a0f9d79     True         11  False   \n",
       "3       deaa4cdcd3e84d8e8b5a0ea34a0f9d79    False         10   True   \n",
       "4       deaa4cdcd3e84d8e8b5a0ea34a0f9d79    False          6  False   \n",
       "...                                  ...      ...        ...    ...   \n",
       "197995  1aa145a4542e499db2ad12490550d3f7     True          6  False   \n",
       "197996  8d4549afb5ea45ee93673c667ffe0fc7    False          8  False   \n",
       "197997  8d4549afb5ea45ee93673c667ffe0fc7    False          7   True   \n",
       "197998  8d4549afb5ea45ee93673c667ffe0fc7    False          6  False   \n",
       "197999  724b832d9672411db5555501dcf83a0c     True          9  False   \n",
       "\n",
       "               user_turn_1_eot_user_cards_in_hand  \\\n",
       "0             91632|91732|91734|76852|76855|91633   \n",
       "1             91710|76852|91698|91633|76855|76855   \n",
       "2                   76855|91645|91744|91703|91734   \n",
       "3       76855|91718|91752|76852|91777|91725|76852   \n",
       "4       76852|91721|91752|76855|91734|76855|91633   \n",
       "...                                           ...   \n",
       "197995              82392|86800|82394|86796|86791   \n",
       "197996  86970|86701|86729|86725|82391|86700|86738   \n",
       "197997  86686|86694|82391|86770|82390|86729|86725   \n",
       "197998  86694|82390|86702|86701|86683|86706|86770   \n",
       "197999        86890|86887|86960|86976|82394|82394   \n",
       "\n",
       "       user_turn_1_eot_user_lands_in_play  \\\n",
       "0                                 76855.0   \n",
       "1                                 76855.0   \n",
       "2                                 76855.0   \n",
       "3                                 76855.0   \n",
       "4                                 76855.0   \n",
       "...                                   ...   \n",
       "197995                            82394.0   \n",
       "197996                            82390.0   \n",
       "197997                            82391.0   \n",
       "197998                            82391.0   \n",
       "197999                            82394.0   \n",
       "\n",
       "        user_turn_1_eot_user_creatures_in_play  \\\n",
       "0                                          NaN   \n",
       "1                                          NaN   \n",
       "2                                          NaN   \n",
       "3                                          NaN   \n",
       "4                                          NaN   \n",
       "...                                        ...   \n",
       "197995                                     NaN   \n",
       "197996                                     NaN   \n",
       "197997                                     NaN   \n",
       "197998                                     NaN   \n",
       "197999                                     NaN   \n",
       "\n",
       "       user_turn_1_eot_user_non_creatures_in_play  user_turn_1_eot_user_life  \\\n",
       "0                                             NaN                       20.0   \n",
       "1                                             NaN                       20.0   \n",
       "2                                             NaN                       20.0   \n",
       "3                                             NaN                       20.0   \n",
       "4                                             NaN                       20.0   \n",
       "...                                           ...                        ...   \n",
       "197995                                    87035.0                       20.0   \n",
       "197996                                        NaN                       19.0   \n",
       "197997                                        NaN                       20.0   \n",
       "197998                                        NaN                       20.0   \n",
       "197999                                        NaN                       20.0   \n",
       "\n",
       "        oppo_turn_1_eot_oppo_cards_in_hand  ...  \\\n",
       "0                                      6.0  ...   \n",
       "1                                      6.0  ...   \n",
       "2                                      7.0  ...   \n",
       "3                                      6.0  ...   \n",
       "4                                      6.0  ...   \n",
       "...                                    ...  ...   \n",
       "197995                                 7.0  ...   \n",
       "197996                                 5.0  ...   \n",
       "197997                                 6.0  ...   \n",
       "197998                                 5.0  ...   \n",
       "197999                                 6.0  ...   \n",
       "\n",
       "       user_turn_20_eot_user_cards_in_hand  \\\n",
       "0                                      NaN   \n",
       "1                                      NaN   \n",
       "2                                      NaN   \n",
       "3                                      NaN   \n",
       "4                                      NaN   \n",
       "...                                    ...   \n",
       "197995                                 NaN   \n",
       "197996                                 NaN   \n",
       "197997                                 NaN   \n",
       "197998                                 NaN   \n",
       "197999                                 NaN   \n",
       "\n",
       "        user_turn_20_eot_user_lands_in_play  \\\n",
       "0                                       NaN   \n",
       "1                                       NaN   \n",
       "2                                       NaN   \n",
       "3                                       NaN   \n",
       "4                                       NaN   \n",
       "...                                     ...   \n",
       "197995                                  NaN   \n",
       "197996                                  NaN   \n",
       "197997                                  NaN   \n",
       "197998                                  NaN   \n",
       "197999                                  NaN   \n",
       "\n",
       "       user_turn_20_eot_user_creatures_in_play  \\\n",
       "0                                          NaN   \n",
       "1                                          NaN   \n",
       "2                                          NaN   \n",
       "3                                          NaN   \n",
       "4                                          NaN   \n",
       "...                                        ...   \n",
       "197995                                     NaN   \n",
       "197996                                     NaN   \n",
       "197997                                     NaN   \n",
       "197998                                     NaN   \n",
       "197999                                     NaN   \n",
       "\n",
       "        user_turn_20_eot_user_non_creatures_in_play  \\\n",
       "0                                               NaN   \n",
       "1                                               NaN   \n",
       "2                                               NaN   \n",
       "3                                               NaN   \n",
       "4                                               NaN   \n",
       "...                                             ...   \n",
       "197995                                          NaN   \n",
       "197996                                          NaN   \n",
       "197997                                          NaN   \n",
       "197998                                          NaN   \n",
       "197999                                          NaN   \n",
       "\n",
       "       user_turn_20_eot_user_life oppo_turn_20_eot_oppo_cards_in_hand  \\\n",
       "0                             0.0                                 0.0   \n",
       "1                             0.0                                 0.0   \n",
       "2                             0.0                                 0.0   \n",
       "3                             0.0                                 0.0   \n",
       "4                             0.0                                 0.0   \n",
       "...                           ...                                 ...   \n",
       "197995                        0.0                                 0.0   \n",
       "197996                        0.0                                 0.0   \n",
       "197997                        0.0                                 0.0   \n",
       "197998                        0.0                                 0.0   \n",
       "197999                        0.0                                 0.0   \n",
       "\n",
       "       oppo_turn_20_eot_oppo_lands_in_play  \\\n",
       "0                                      NaN   \n",
       "1                                      NaN   \n",
       "2                                      NaN   \n",
       "3                                      NaN   \n",
       "4                                      NaN   \n",
       "...                                    ...   \n",
       "197995                                 NaN   \n",
       "197996                                 NaN   \n",
       "197997                                 NaN   \n",
       "197998                                 NaN   \n",
       "197999                                 NaN   \n",
       "\n",
       "       oppo_turn_20_eot_oppo_creatures_in_play  \\\n",
       "0                                          NaN   \n",
       "1                                          NaN   \n",
       "2                                          NaN   \n",
       "3                                          NaN   \n",
       "4                                          NaN   \n",
       "...                                        ...   \n",
       "197995                                     NaN   \n",
       "197996                                     NaN   \n",
       "197997                                     NaN   \n",
       "197998                                     NaN   \n",
       "197999                                     NaN   \n",
       "\n",
       "        oppo_turn_20_eot_oppo_non_creatures_in_play  \\\n",
       "0                                               NaN   \n",
       "1                                               NaN   \n",
       "2                                               NaN   \n",
       "3                                               NaN   \n",
       "4                                               NaN   \n",
       "...                                             ...   \n",
       "197995                                          NaN   \n",
       "197996                                          NaN   \n",
       "197997                                          NaN   \n",
       "197998                                          NaN   \n",
       "197999                                          NaN   \n",
       "\n",
       "        oppo_turn_20_eot_oppo_life  \n",
       "0                              0.0  \n",
       "1                              0.0  \n",
       "2                              0.0  \n",
       "3                              0.0  \n",
       "4                              0.0  \n",
       "...                            ...  \n",
       "197995                         0.0  \n",
       "197996                         0.0  \n",
       "197997                         0.0  \n",
       "197998                         0.0  \n",
       "197999                         0.0  \n",
       "\n",
       "[198000 rows x 204 columns]"
      ]
     },
     "execution_count": 7,
     "metadata": {},
     "output_type": "execute_result"
    }
   ],
   "source": [
    "data"
   ]
  },
  {
   "cell_type": "code",
   "execution_count": 8,
   "metadata": {},
   "outputs": [],
   "source": [
    "import os\n",
    "import pandas as pd\n",
    "import time\n",
    "\n",
    "def process_in_chunks_with_estimation(data, output_path, chunk_size=10000, id_to_wr_mapping=None, dynamic_winrate=False, max_cards=20):\n",
    "    \"\"\"\n",
    "    Process the replay data in chunks and save results incrementally, with progress estimation.\n",
    "    \n",
    "    Parameters:\n",
    "        data (pd.DataFrame): The raw replay data to process.\n",
    "        output_path (str): The file path to save the transformed data.\n",
    "        chunk_size (int): Number of rows per chunk.\n",
    "        id_to_wr_mapping (dict): Mapping for card IDs to GP WR values.\n",
    "        dynamic_winrate (bool): Whether to use dynamic winrate mapping.\n",
    "        max_cards (int): Maximum number of card slots to process.\n",
    "    \"\"\"\n",
    "    # Pre-load mappings if not provided\n",
    "    if id_to_wr_mapping is None:\n",
    "        id_to_wr_mapping = load_id_to_wr_mapping()\n",
    "    \n",
    "    # Check which chunks have already been processed\n",
    "    processed_chunks = set()\n",
    "    if os.path.exists(output_path):\n",
    "        try:\n",
    "            existing_df = pd.read_csv(output_path, usecols=['chunk_index'])  # Use a metadata column\n",
    "            processed_chunks = set(existing_df['chunk_index'].unique())\n",
    "        except Exception as e:\n",
    "            print(f\"Error reading existing output: {e}\")\n",
    "\n",
    "    total_chunks = (len(data) // chunk_size) + (1 if len(data) % chunk_size > 0 else 0)\n",
    "    remaining_chunks = total_chunks - len(processed_chunks)\n",
    "    \n",
    "    start_time = time.time()\n",
    "    processed_count = 0\n",
    "\n",
    "    for chunk_index in range(total_chunks):\n",
    "        if chunk_index in processed_chunks:\n",
    "            print(f\"Skipping already processed chunk {chunk_index}\")\n",
    "            continue\n",
    "\n",
    "        print(f\"Processing chunk {chunk_index}...\")\n",
    "        chunk = data.iloc[chunk_index * chunk_size:(chunk_index + 1) * chunk_size]\n",
    "\n",
    "        try:\n",
    "            transformed_chunk = transform_replay_data(chunk, id_to_wr_mapping=id_to_wr_mapping, \n",
    "                                                      dynamic_winrate=dynamic_winrate, max_cards=max_cards)\n",
    "            \n",
    "            # Add metadata to track chunks\n",
    "            transformed_chunk['chunk_index'] = chunk_index\n",
    "            \n",
    "            # Save the chunk incrementally\n",
    "            if os.path.exists(output_path):\n",
    "                transformed_chunk.to_csv(output_path, mode='a', header=False, index=False)\n",
    "            else:\n",
    "                transformed_chunk.to_csv(output_path, mode='w', header=True, index=False)\n",
    "\n",
    "            processed_count += 1\n",
    "            elapsed_time = time.time() - start_time\n",
    "            avg_time_per_chunk = elapsed_time / processed_count\n",
    "            remaining_time = avg_time_per_chunk * (remaining_chunks - processed_count)\n",
    "\n",
    "            print(f\"Chunk {chunk_index} processed and saved.\")\n",
    "            print(f\"Progress: {processed_count}/{remaining_chunks} chunks processed.\")\n",
    "            print(f\"Estimated time remaining: {remaining_time:.2f} seconds.\")\n",
    "\n",
    "        except Exception as e:\n",
    "            print(f\"Error processing chunk {chunk_index}: {e}\")\n",
    "            break  # Stop processing further chunks if an error occurs\n"
   ]
  },
  {
   "cell_type": "code",
   "execution_count": 9,
   "metadata": {},
   "outputs": [
    {
     "name": "stdout",
     "output_type": "stream",
     "text": [
      "Skipping already processed chunk 0\n",
      "Skipping already processed chunk 1\n",
      "Skipping already processed chunk 2\n",
      "Skipping already processed chunk 3\n",
      "Skipping already processed chunk 4\n",
      "Skipping already processed chunk 5\n",
      "Skipping already processed chunk 6\n",
      "Skipping already processed chunk 7\n",
      "Skipping already processed chunk 8\n",
      "Skipping already processed chunk 9\n",
      "Skipping already processed chunk 10\n",
      "Skipping already processed chunk 11\n",
      "Skipping already processed chunk 12\n",
      "Skipping already processed chunk 13\n",
      "Skipping already processed chunk 14\n",
      "Skipping already processed chunk 15\n",
      "Skipping already processed chunk 16\n",
      "Skipping already processed chunk 17\n",
      "Skipping already processed chunk 18\n",
      "Skipping already processed chunk 19\n",
      "Skipping already processed chunk 20\n",
      "Skipping already processed chunk 21\n",
      "Skipping already processed chunk 22\n",
      "Skipping already processed chunk 23\n",
      "Skipping already processed chunk 24\n",
      "Skipping already processed chunk 25\n",
      "Skipping already processed chunk 26\n",
      "Skipping already processed chunk 27\n",
      "Skipping already processed chunk 28\n",
      "Skipping already processed chunk 29\n",
      "Skipping already processed chunk 30\n",
      "Skipping already processed chunk 31\n",
      "Skipping already processed chunk 32\n",
      "Skipping already processed chunk 33\n",
      "Skipping already processed chunk 34\n",
      "Skipping already processed chunk 35\n",
      "Skipping already processed chunk 36\n",
      "Skipping already processed chunk 37\n",
      "Skipping already processed chunk 38\n",
      "Skipping already processed chunk 39\n",
      "Skipping already processed chunk 40\n",
      "Skipping already processed chunk 41\n",
      "Skipping already processed chunk 42\n",
      "Skipping already processed chunk 43\n",
      "Skipping already processed chunk 44\n",
      "Skipping already processed chunk 45\n",
      "Skipping already processed chunk 46\n",
      "Skipping already processed chunk 47\n",
      "Skipping already processed chunk 48\n",
      "Skipping already processed chunk 49\n",
      "Skipping already processed chunk 50\n",
      "Skipping already processed chunk 51\n",
      "Skipping already processed chunk 52\n",
      "Skipping already processed chunk 53\n",
      "Skipping already processed chunk 54\n",
      "Skipping already processed chunk 55\n",
      "Skipping already processed chunk 56\n",
      "Skipping already processed chunk 57\n",
      "Skipping already processed chunk 58\n",
      "Skipping already processed chunk 59\n",
      "Skipping already processed chunk 60\n",
      "Skipping already processed chunk 61\n",
      "Skipping already processed chunk 62\n",
      "Skipping already processed chunk 63\n",
      "Skipping already processed chunk 64\n",
      "Skipping already processed chunk 65\n",
      "Skipping already processed chunk 66\n",
      "Skipping already processed chunk 67\n",
      "Skipping already processed chunk 68\n",
      "Skipping already processed chunk 69\n",
      "Skipping already processed chunk 70\n",
      "Skipping already processed chunk 71\n",
      "Skipping already processed chunk 72\n",
      "Skipping already processed chunk 73\n",
      "Skipping already processed chunk 74\n",
      "Skipping already processed chunk 75\n",
      "Skipping already processed chunk 76\n",
      "Skipping already processed chunk 77\n",
      "Skipping already processed chunk 78\n",
      "Skipping already processed chunk 79\n",
      "Skipping already processed chunk 80\n",
      "Skipping already processed chunk 81\n",
      "Skipping already processed chunk 82\n",
      "Skipping already processed chunk 83\n",
      "Skipping already processed chunk 84\n",
      "Skipping already processed chunk 85\n",
      "Skipping already processed chunk 86\n",
      "Skipping already processed chunk 87\n",
      "Skipping already processed chunk 88\n",
      "Skipping already processed chunk 89\n",
      "Processing chunk 90...\n"
     ]
    },
    {
     "name": "stderr",
     "output_type": "stream",
     "text": [
      "C:\\Users\\jwright\\AppData\\Local\\Temp\\ipykernel_28352\\2638158900.py:49: PerformanceWarning: DataFrame is highly fragmented.  This is usually the result of calling `frame.insert` many times, which has poor performance.  Consider joining all columns at once using pd.concat(axis=1) instead. To get a de-fragmented frame, use `newframe = frame.copy()`\n",
      "  transformed_chunk['chunk_index'] = chunk_index\n"
     ]
    },
    {
     "name": "stdout",
     "output_type": "stream",
     "text": [
      "Chunk 90 processed and saved.\n",
      "Progress: 1/108 chunks processed.\n",
      "Estimated time remaining: 20777.93 seconds.\n",
      "Processing chunk 91...\n"
     ]
    },
    {
     "name": "stderr",
     "output_type": "stream",
     "text": [
      "C:\\Users\\jwright\\AppData\\Local\\Temp\\ipykernel_28352\\2638158900.py:49: PerformanceWarning: DataFrame is highly fragmented.  This is usually the result of calling `frame.insert` many times, which has poor performance.  Consider joining all columns at once using pd.concat(axis=1) instead. To get a de-fragmented frame, use `newframe = frame.copy()`\n",
      "  transformed_chunk['chunk_index'] = chunk_index\n"
     ]
    },
    {
     "name": "stdout",
     "output_type": "stream",
     "text": [
      "Chunk 91 processed and saved.\n",
      "Progress: 2/108 chunks processed.\n",
      "Estimated time remaining: 23030.40 seconds.\n",
      "Processing chunk 92...\n"
     ]
    },
    {
     "name": "stderr",
     "output_type": "stream",
     "text": [
      "C:\\Users\\jwright\\AppData\\Local\\Temp\\ipykernel_28352\\2638158900.py:49: PerformanceWarning: DataFrame is highly fragmented.  This is usually the result of calling `frame.insert` many times, which has poor performance.  Consider joining all columns at once using pd.concat(axis=1) instead. To get a de-fragmented frame, use `newframe = frame.copy()`\n",
      "  transformed_chunk['chunk_index'] = chunk_index\n"
     ]
    },
    {
     "name": "stdout",
     "output_type": "stream",
     "text": [
      "Chunk 92 processed and saved.\n",
      "Progress: 3/108 chunks processed.\n",
      "Estimated time remaining: 23202.45 seconds.\n",
      "Processing chunk 93...\n"
     ]
    },
    {
     "name": "stderr",
     "output_type": "stream",
     "text": [
      "C:\\Users\\jwright\\AppData\\Local\\Temp\\ipykernel_28352\\2638158900.py:49: PerformanceWarning: DataFrame is highly fragmented.  This is usually the result of calling `frame.insert` many times, which has poor performance.  Consider joining all columns at once using pd.concat(axis=1) instead. To get a de-fragmented frame, use `newframe = frame.copy()`\n",
      "  transformed_chunk['chunk_index'] = chunk_index\n"
     ]
    },
    {
     "name": "stdout",
     "output_type": "stream",
     "text": [
      "Chunk 93 processed and saved.\n",
      "Progress: 4/108 chunks processed.\n",
      "Estimated time remaining: 23598.98 seconds.\n",
      "Processing chunk 94...\n"
     ]
    },
    {
     "name": "stderr",
     "output_type": "stream",
     "text": [
      "C:\\Users\\jwright\\AppData\\Local\\Temp\\ipykernel_28352\\2638158900.py:49: PerformanceWarning: DataFrame is highly fragmented.  This is usually the result of calling `frame.insert` many times, which has poor performance.  Consider joining all columns at once using pd.concat(axis=1) instead. To get a de-fragmented frame, use `newframe = frame.copy()`\n",
      "  transformed_chunk['chunk_index'] = chunk_index\n"
     ]
    },
    {
     "name": "stdout",
     "output_type": "stream",
     "text": [
      "Chunk 94 processed and saved.\n",
      "Progress: 5/108 chunks processed.\n",
      "Estimated time remaining: 21637.99 seconds.\n",
      "Processing chunk 95...\n"
     ]
    },
    {
     "name": "stderr",
     "output_type": "stream",
     "text": [
      "C:\\Users\\jwright\\AppData\\Local\\Temp\\ipykernel_28352\\2638158900.py:49: PerformanceWarning: DataFrame is highly fragmented.  This is usually the result of calling `frame.insert` many times, which has poor performance.  Consider joining all columns at once using pd.concat(axis=1) instead. To get a de-fragmented frame, use `newframe = frame.copy()`\n",
      "  transformed_chunk['chunk_index'] = chunk_index\n"
     ]
    },
    {
     "name": "stdout",
     "output_type": "stream",
     "text": [
      "Chunk 95 processed and saved.\n",
      "Progress: 6/108 chunks processed.\n",
      "Estimated time remaining: 20036.01 seconds.\n",
      "Processing chunk 96...\n"
     ]
    },
    {
     "name": "stderr",
     "output_type": "stream",
     "text": [
      "C:\\Users\\jwright\\AppData\\Local\\Temp\\ipykernel_28352\\2638158900.py:49: PerformanceWarning: DataFrame is highly fragmented.  This is usually the result of calling `frame.insert` many times, which has poor performance.  Consider joining all columns at once using pd.concat(axis=1) instead. To get a de-fragmented frame, use `newframe = frame.copy()`\n",
      "  transformed_chunk['chunk_index'] = chunk_index\n"
     ]
    },
    {
     "name": "stdout",
     "output_type": "stream",
     "text": [
      "Chunk 96 processed and saved.\n",
      "Progress: 7/108 chunks processed.\n",
      "Estimated time remaining: 18823.38 seconds.\n",
      "Processing chunk 97...\n"
     ]
    },
    {
     "name": "stderr",
     "output_type": "stream",
     "text": [
      "C:\\Users\\jwright\\AppData\\Local\\Temp\\ipykernel_28352\\2638158900.py:49: PerformanceWarning: DataFrame is highly fragmented.  This is usually the result of calling `frame.insert` many times, which has poor performance.  Consider joining all columns at once using pd.concat(axis=1) instead. To get a de-fragmented frame, use `newframe = frame.copy()`\n",
      "  transformed_chunk['chunk_index'] = chunk_index\n"
     ]
    },
    {
     "name": "stdout",
     "output_type": "stream",
     "text": [
      "Chunk 97 processed and saved.\n",
      "Progress: 8/108 chunks processed.\n",
      "Estimated time remaining: 17907.42 seconds.\n",
      "Processing chunk 98...\n"
     ]
    },
    {
     "name": "stderr",
     "output_type": "stream",
     "text": [
      "C:\\Users\\jwright\\AppData\\Local\\Temp\\ipykernel_28352\\2638158900.py:49: PerformanceWarning: DataFrame is highly fragmented.  This is usually the result of calling `frame.insert` many times, which has poor performance.  Consider joining all columns at once using pd.concat(axis=1) instead. To get a de-fragmented frame, use `newframe = frame.copy()`\n",
      "  transformed_chunk['chunk_index'] = chunk_index\n"
     ]
    },
    {
     "name": "stdout",
     "output_type": "stream",
     "text": [
      "Chunk 98 processed and saved.\n",
      "Progress: 9/108 chunks processed.\n",
      "Estimated time remaining: 17152.69 seconds.\n",
      "Processing chunk 99...\n"
     ]
    },
    {
     "name": "stderr",
     "output_type": "stream",
     "text": [
      "C:\\Users\\jwright\\AppData\\Local\\Temp\\ipykernel_28352\\2638158900.py:49: PerformanceWarning: DataFrame is highly fragmented.  This is usually the result of calling `frame.insert` many times, which has poor performance.  Consider joining all columns at once using pd.concat(axis=1) instead. To get a de-fragmented frame, use `newframe = frame.copy()`\n",
      "  transformed_chunk['chunk_index'] = chunk_index\n"
     ]
    },
    {
     "name": "stdout",
     "output_type": "stream",
     "text": [
      "Chunk 99 processed and saved.\n",
      "Progress: 10/108 chunks processed.\n",
      "Estimated time remaining: 16526.67 seconds.\n",
      "Processing chunk 100...\n"
     ]
    },
    {
     "name": "stderr",
     "output_type": "stream",
     "text": [
      "C:\\Users\\jwright\\AppData\\Local\\Temp\\ipykernel_28352\\2638158900.py:49: PerformanceWarning: DataFrame is highly fragmented.  This is usually the result of calling `frame.insert` many times, which has poor performance.  Consider joining all columns at once using pd.concat(axis=1) instead. To get a de-fragmented frame, use `newframe = frame.copy()`\n",
      "  transformed_chunk['chunk_index'] = chunk_index\n"
     ]
    },
    {
     "name": "stdout",
     "output_type": "stream",
     "text": [
      "Chunk 100 processed and saved.\n",
      "Progress: 11/108 chunks processed.\n",
      "Estimated time remaining: 15990.39 seconds.\n",
      "Processing chunk 101...\n"
     ]
    },
    {
     "name": "stderr",
     "output_type": "stream",
     "text": [
      "C:\\Users\\jwright\\AppData\\Local\\Temp\\ipykernel_28352\\2638158900.py:49: PerformanceWarning: DataFrame is highly fragmented.  This is usually the result of calling `frame.insert` many times, which has poor performance.  Consider joining all columns at once using pd.concat(axis=1) instead. To get a de-fragmented frame, use `newframe = frame.copy()`\n",
      "  transformed_chunk['chunk_index'] = chunk_index\n"
     ]
    },
    {
     "name": "stdout",
     "output_type": "stream",
     "text": [
      "Chunk 101 processed and saved.\n",
      "Progress: 12/108 chunks processed.\n",
      "Estimated time remaining: 15520.36 seconds.\n",
      "Processing chunk 102...\n"
     ]
    },
    {
     "name": "stderr",
     "output_type": "stream",
     "text": [
      "C:\\Users\\jwright\\AppData\\Local\\Temp\\ipykernel_28352\\2638158900.py:49: PerformanceWarning: DataFrame is highly fragmented.  This is usually the result of calling `frame.insert` many times, which has poor performance.  Consider joining all columns at once using pd.concat(axis=1) instead. To get a de-fragmented frame, use `newframe = frame.copy()`\n",
      "  transformed_chunk['chunk_index'] = chunk_index\n"
     ]
    },
    {
     "name": "stdout",
     "output_type": "stream",
     "text": [
      "Chunk 102 processed and saved.\n",
      "Progress: 13/108 chunks processed.\n",
      "Estimated time remaining: 15094.52 seconds.\n",
      "Processing chunk 103...\n"
     ]
    },
    {
     "name": "stderr",
     "output_type": "stream",
     "text": [
      "C:\\Users\\jwright\\AppData\\Local\\Temp\\ipykernel_28352\\2638158900.py:49: PerformanceWarning: DataFrame is highly fragmented.  This is usually the result of calling `frame.insert` many times, which has poor performance.  Consider joining all columns at once using pd.concat(axis=1) instead. To get a de-fragmented frame, use `newframe = frame.copy()`\n",
      "  transformed_chunk['chunk_index'] = chunk_index\n"
     ]
    },
    {
     "name": "stdout",
     "output_type": "stream",
     "text": [
      "Chunk 103 processed and saved.\n",
      "Progress: 14/108 chunks processed.\n",
      "Estimated time remaining: 14725.22 seconds.\n",
      "Processing chunk 104...\n"
     ]
    },
    {
     "name": "stderr",
     "output_type": "stream",
     "text": [
      "C:\\Users\\jwright\\AppData\\Local\\Temp\\ipykernel_28352\\2638158900.py:49: PerformanceWarning: DataFrame is highly fragmented.  This is usually the result of calling `frame.insert` many times, which has poor performance.  Consider joining all columns at once using pd.concat(axis=1) instead. To get a de-fragmented frame, use `newframe = frame.copy()`\n",
      "  transformed_chunk['chunk_index'] = chunk_index\n"
     ]
    },
    {
     "name": "stdout",
     "output_type": "stream",
     "text": [
      "Chunk 104 processed and saved.\n",
      "Progress: 15/108 chunks processed.\n",
      "Estimated time remaining: 14393.93 seconds.\n",
      "Processing chunk 105...\n"
     ]
    },
    {
     "name": "stderr",
     "output_type": "stream",
     "text": [
      "C:\\Users\\jwright\\AppData\\Local\\Temp\\ipykernel_28352\\2638158900.py:49: PerformanceWarning: DataFrame is highly fragmented.  This is usually the result of calling `frame.insert` many times, which has poor performance.  Consider joining all columns at once using pd.concat(axis=1) instead. To get a de-fragmented frame, use `newframe = frame.copy()`\n",
      "  transformed_chunk['chunk_index'] = chunk_index\n"
     ]
    },
    {
     "name": "stdout",
     "output_type": "stream",
     "text": [
      "Chunk 105 processed and saved.\n",
      "Progress: 16/108 chunks processed.\n",
      "Estimated time remaining: 14082.79 seconds.\n",
      "Processing chunk 106...\n"
     ]
    },
    {
     "name": "stderr",
     "output_type": "stream",
     "text": [
      "C:\\Users\\jwright\\AppData\\Local\\Temp\\ipykernel_28352\\2638158900.py:49: PerformanceWarning: DataFrame is highly fragmented.  This is usually the result of calling `frame.insert` many times, which has poor performance.  Consider joining all columns at once using pd.concat(axis=1) instead. To get a de-fragmented frame, use `newframe = frame.copy()`\n",
      "  transformed_chunk['chunk_index'] = chunk_index\n"
     ]
    },
    {
     "name": "stdout",
     "output_type": "stream",
     "text": [
      "Chunk 106 processed and saved.\n",
      "Progress: 17/108 chunks processed.\n",
      "Estimated time remaining: 13799.92 seconds.\n",
      "Processing chunk 107...\n"
     ]
    },
    {
     "name": "stderr",
     "output_type": "stream",
     "text": [
      "C:\\Users\\jwright\\AppData\\Local\\Temp\\ipykernel_28352\\2638158900.py:49: PerformanceWarning: DataFrame is highly fragmented.  This is usually the result of calling `frame.insert` many times, which has poor performance.  Consider joining all columns at once using pd.concat(axis=1) instead. To get a de-fragmented frame, use `newframe = frame.copy()`\n",
      "  transformed_chunk['chunk_index'] = chunk_index\n"
     ]
    },
    {
     "name": "stdout",
     "output_type": "stream",
     "text": [
      "Chunk 107 processed and saved.\n",
      "Progress: 18/108 chunks processed.\n",
      "Estimated time remaining: 13533.03 seconds.\n",
      "Processing chunk 108...\n"
     ]
    },
    {
     "name": "stderr",
     "output_type": "stream",
     "text": [
      "C:\\Users\\jwright\\AppData\\Local\\Temp\\ipykernel_28352\\2638158900.py:49: PerformanceWarning: DataFrame is highly fragmented.  This is usually the result of calling `frame.insert` many times, which has poor performance.  Consider joining all columns at once using pd.concat(axis=1) instead. To get a de-fragmented frame, use `newframe = frame.copy()`\n",
      "  transformed_chunk['chunk_index'] = chunk_index\n"
     ]
    },
    {
     "name": "stdout",
     "output_type": "stream",
     "text": [
      "Chunk 108 processed and saved.\n",
      "Progress: 19/108 chunks processed.\n",
      "Estimated time remaining: 13283.50 seconds.\n",
      "Processing chunk 109...\n"
     ]
    },
    {
     "name": "stderr",
     "output_type": "stream",
     "text": [
      "C:\\Users\\jwright\\AppData\\Local\\Temp\\ipykernel_28352\\2638158900.py:49: PerformanceWarning: DataFrame is highly fragmented.  This is usually the result of calling `frame.insert` many times, which has poor performance.  Consider joining all columns at once using pd.concat(axis=1) instead. To get a de-fragmented frame, use `newframe = frame.copy()`\n",
      "  transformed_chunk['chunk_index'] = chunk_index\n"
     ]
    },
    {
     "name": "stdout",
     "output_type": "stream",
     "text": [
      "Chunk 109 processed and saved.\n",
      "Progress: 20/108 chunks processed.\n",
      "Estimated time remaining: 13031.68 seconds.\n",
      "Processing chunk 110...\n"
     ]
    },
    {
     "name": "stderr",
     "output_type": "stream",
     "text": [
      "C:\\Users\\jwright\\AppData\\Local\\Temp\\ipykernel_28352\\2638158900.py:49: PerformanceWarning: DataFrame is highly fragmented.  This is usually the result of calling `frame.insert` many times, which has poor performance.  Consider joining all columns at once using pd.concat(axis=1) instead. To get a de-fragmented frame, use `newframe = frame.copy()`\n",
      "  transformed_chunk['chunk_index'] = chunk_index\n"
     ]
    },
    {
     "name": "stdout",
     "output_type": "stream",
     "text": [
      "Chunk 110 processed and saved.\n",
      "Progress: 21/108 chunks processed.\n",
      "Estimated time remaining: 12807.28 seconds.\n",
      "Processing chunk 111...\n"
     ]
    },
    {
     "name": "stderr",
     "output_type": "stream",
     "text": [
      "C:\\Users\\jwright\\AppData\\Local\\Temp\\ipykernel_28352\\2638158900.py:49: PerformanceWarning: DataFrame is highly fragmented.  This is usually the result of calling `frame.insert` many times, which has poor performance.  Consider joining all columns at once using pd.concat(axis=1) instead. To get a de-fragmented frame, use `newframe = frame.copy()`\n",
      "  transformed_chunk['chunk_index'] = chunk_index\n"
     ]
    },
    {
     "name": "stdout",
     "output_type": "stream",
     "text": [
      "Chunk 111 processed and saved.\n",
      "Progress: 22/108 chunks processed.\n",
      "Estimated time remaining: 12581.01 seconds.\n",
      "Processing chunk 112...\n"
     ]
    },
    {
     "name": "stderr",
     "output_type": "stream",
     "text": [
      "C:\\Users\\jwright\\AppData\\Local\\Temp\\ipykernel_28352\\2638158900.py:49: PerformanceWarning: DataFrame is highly fragmented.  This is usually the result of calling `frame.insert` many times, which has poor performance.  Consider joining all columns at once using pd.concat(axis=1) instead. To get a de-fragmented frame, use `newframe = frame.copy()`\n",
      "  transformed_chunk['chunk_index'] = chunk_index\n"
     ]
    },
    {
     "name": "stdout",
     "output_type": "stream",
     "text": [
      "Chunk 112 processed and saved.\n",
      "Progress: 23/108 chunks processed.\n",
      "Estimated time remaining: 12378.77 seconds.\n",
      "Processing chunk 113...\n"
     ]
    },
    {
     "name": "stderr",
     "output_type": "stream",
     "text": [
      "C:\\Users\\jwright\\AppData\\Local\\Temp\\ipykernel_28352\\2638158900.py:49: PerformanceWarning: DataFrame is highly fragmented.  This is usually the result of calling `frame.insert` many times, which has poor performance.  Consider joining all columns at once using pd.concat(axis=1) instead. To get a de-fragmented frame, use `newframe = frame.copy()`\n",
      "  transformed_chunk['chunk_index'] = chunk_index\n"
     ]
    },
    {
     "name": "stdout",
     "output_type": "stream",
     "text": [
      "Chunk 113 processed and saved.\n",
      "Progress: 24/108 chunks processed.\n",
      "Estimated time remaining: 12174.93 seconds.\n",
      "Processing chunk 114...\n"
     ]
    },
    {
     "name": "stderr",
     "output_type": "stream",
     "text": [
      "C:\\Users\\jwright\\AppData\\Local\\Temp\\ipykernel_28352\\2638158900.py:49: PerformanceWarning: DataFrame is highly fragmented.  This is usually the result of calling `frame.insert` many times, which has poor performance.  Consider joining all columns at once using pd.concat(axis=1) instead. To get a de-fragmented frame, use `newframe = frame.copy()`\n",
      "  transformed_chunk['chunk_index'] = chunk_index\n"
     ]
    },
    {
     "name": "stdout",
     "output_type": "stream",
     "text": [
      "Chunk 114 processed and saved.\n",
      "Progress: 25/108 chunks processed.\n",
      "Estimated time remaining: 11979.35 seconds.\n",
      "Processing chunk 115...\n"
     ]
    },
    {
     "name": "stderr",
     "output_type": "stream",
     "text": [
      "C:\\Users\\jwright\\AppData\\Local\\Temp\\ipykernel_28352\\2638158900.py:49: PerformanceWarning: DataFrame is highly fragmented.  This is usually the result of calling `frame.insert` many times, which has poor performance.  Consider joining all columns at once using pd.concat(axis=1) instead. To get a de-fragmented frame, use `newframe = frame.copy()`\n",
      "  transformed_chunk['chunk_index'] = chunk_index\n"
     ]
    },
    {
     "name": "stdout",
     "output_type": "stream",
     "text": [
      "Chunk 115 processed and saved.\n",
      "Progress: 26/108 chunks processed.\n",
      "Estimated time remaining: 11769.19 seconds.\n",
      "Processing chunk 116...\n"
     ]
    },
    {
     "name": "stderr",
     "output_type": "stream",
     "text": [
      "C:\\Users\\jwright\\AppData\\Local\\Temp\\ipykernel_28352\\2638158900.py:49: PerformanceWarning: DataFrame is highly fragmented.  This is usually the result of calling `frame.insert` many times, which has poor performance.  Consider joining all columns at once using pd.concat(axis=1) instead. To get a de-fragmented frame, use `newframe = frame.copy()`\n",
      "  transformed_chunk['chunk_index'] = chunk_index\n"
     ]
    },
    {
     "name": "stdout",
     "output_type": "stream",
     "text": [
      "Chunk 116 processed and saved.\n",
      "Progress: 27/108 chunks processed.\n",
      "Estimated time remaining: 11564.25 seconds.\n",
      "Processing chunk 117...\n"
     ]
    },
    {
     "name": "stderr",
     "output_type": "stream",
     "text": [
      "C:\\Users\\jwright\\AppData\\Local\\Temp\\ipykernel_28352\\2638158900.py:49: PerformanceWarning: DataFrame is highly fragmented.  This is usually the result of calling `frame.insert` many times, which has poor performance.  Consider joining all columns at once using pd.concat(axis=1) instead. To get a de-fragmented frame, use `newframe = frame.copy()`\n",
      "  transformed_chunk['chunk_index'] = chunk_index\n"
     ]
    },
    {
     "name": "stdout",
     "output_type": "stream",
     "text": [
      "Chunk 117 processed and saved.\n",
      "Progress: 28/108 chunks processed.\n",
      "Estimated time remaining: 11360.54 seconds.\n",
      "Processing chunk 118...\n"
     ]
    },
    {
     "name": "stderr",
     "output_type": "stream",
     "text": [
      "C:\\Users\\jwright\\AppData\\Local\\Temp\\ipykernel_28352\\2638158900.py:49: PerformanceWarning: DataFrame is highly fragmented.  This is usually the result of calling `frame.insert` many times, which has poor performance.  Consider joining all columns at once using pd.concat(axis=1) instead. To get a de-fragmented frame, use `newframe = frame.copy()`\n",
      "  transformed_chunk['chunk_index'] = chunk_index\n"
     ]
    },
    {
     "name": "stdout",
     "output_type": "stream",
     "text": [
      "Chunk 118 processed and saved.\n",
      "Progress: 29/108 chunks processed.\n",
      "Estimated time remaining: 11164.74 seconds.\n",
      "Processing chunk 119...\n"
     ]
    },
    {
     "name": "stderr",
     "output_type": "stream",
     "text": [
      "C:\\Users\\jwright\\AppData\\Local\\Temp\\ipykernel_28352\\2638158900.py:49: PerformanceWarning: DataFrame is highly fragmented.  This is usually the result of calling `frame.insert` many times, which has poor performance.  Consider joining all columns at once using pd.concat(axis=1) instead. To get a de-fragmented frame, use `newframe = frame.copy()`\n",
      "  transformed_chunk['chunk_index'] = chunk_index\n"
     ]
    },
    {
     "name": "stdout",
     "output_type": "stream",
     "text": [
      "Chunk 119 processed and saved.\n",
      "Progress: 30/108 chunks processed.\n",
      "Estimated time remaining: 10971.61 seconds.\n",
      "Processing chunk 120...\n"
     ]
    },
    {
     "name": "stderr",
     "output_type": "stream",
     "text": [
      "C:\\Users\\jwright\\AppData\\Local\\Temp\\ipykernel_28352\\2638158900.py:49: PerformanceWarning: DataFrame is highly fragmented.  This is usually the result of calling `frame.insert` many times, which has poor performance.  Consider joining all columns at once using pd.concat(axis=1) instead. To get a de-fragmented frame, use `newframe = frame.copy()`\n",
      "  transformed_chunk['chunk_index'] = chunk_index\n"
     ]
    },
    {
     "name": "stdout",
     "output_type": "stream",
     "text": [
      "Chunk 120 processed and saved.\n",
      "Progress: 31/108 chunks processed.\n",
      "Estimated time remaining: 10788.04 seconds.\n",
      "Processing chunk 121...\n"
     ]
    },
    {
     "name": "stderr",
     "output_type": "stream",
     "text": [
      "C:\\Users\\jwright\\AppData\\Local\\Temp\\ipykernel_28352\\2638158900.py:49: PerformanceWarning: DataFrame is highly fragmented.  This is usually the result of calling `frame.insert` many times, which has poor performance.  Consider joining all columns at once using pd.concat(axis=1) instead. To get a de-fragmented frame, use `newframe = frame.copy()`\n",
      "  transformed_chunk['chunk_index'] = chunk_index\n"
     ]
    },
    {
     "name": "stdout",
     "output_type": "stream",
     "text": [
      "Chunk 121 processed and saved.\n",
      "Progress: 32/108 chunks processed.\n",
      "Estimated time remaining: 10606.69 seconds.\n",
      "Processing chunk 122...\n"
     ]
    },
    {
     "name": "stderr",
     "output_type": "stream",
     "text": [
      "C:\\Users\\jwright\\AppData\\Local\\Temp\\ipykernel_28352\\2638158900.py:49: PerformanceWarning: DataFrame is highly fragmented.  This is usually the result of calling `frame.insert` many times, which has poor performance.  Consider joining all columns at once using pd.concat(axis=1) instead. To get a de-fragmented frame, use `newframe = frame.copy()`\n",
      "  transformed_chunk['chunk_index'] = chunk_index\n"
     ]
    },
    {
     "name": "stdout",
     "output_type": "stream",
     "text": [
      "Chunk 122 processed and saved.\n",
      "Progress: 33/108 chunks processed.\n",
      "Estimated time remaining: 10427.68 seconds.\n",
      "Processing chunk 123...\n"
     ]
    },
    {
     "name": "stderr",
     "output_type": "stream",
     "text": [
      "C:\\Users\\jwright\\AppData\\Local\\Temp\\ipykernel_28352\\2638158900.py:49: PerformanceWarning: DataFrame is highly fragmented.  This is usually the result of calling `frame.insert` many times, which has poor performance.  Consider joining all columns at once using pd.concat(axis=1) instead. To get a de-fragmented frame, use `newframe = frame.copy()`\n",
      "  transformed_chunk['chunk_index'] = chunk_index\n"
     ]
    },
    {
     "name": "stdout",
     "output_type": "stream",
     "text": [
      "Chunk 123 processed and saved.\n",
      "Progress: 34/108 chunks processed.\n",
      "Estimated time remaining: 10258.57 seconds.\n",
      "Processing chunk 124...\n"
     ]
    },
    {
     "name": "stderr",
     "output_type": "stream",
     "text": [
      "C:\\Users\\jwright\\AppData\\Local\\Temp\\ipykernel_28352\\2638158900.py:49: PerformanceWarning: DataFrame is highly fragmented.  This is usually the result of calling `frame.insert` many times, which has poor performance.  Consider joining all columns at once using pd.concat(axis=1) instead. To get a de-fragmented frame, use `newframe = frame.copy()`\n",
      "  transformed_chunk['chunk_index'] = chunk_index\n"
     ]
    },
    {
     "name": "stdout",
     "output_type": "stream",
     "text": [
      "Chunk 124 processed and saved.\n",
      "Progress: 35/108 chunks processed.\n",
      "Estimated time remaining: 10086.16 seconds.\n",
      "Processing chunk 125...\n"
     ]
    },
    {
     "name": "stderr",
     "output_type": "stream",
     "text": [
      "C:\\Users\\jwright\\AppData\\Local\\Temp\\ipykernel_28352\\2638158900.py:49: PerformanceWarning: DataFrame is highly fragmented.  This is usually the result of calling `frame.insert` many times, which has poor performance.  Consider joining all columns at once using pd.concat(axis=1) instead. To get a de-fragmented frame, use `newframe = frame.copy()`\n",
      "  transformed_chunk['chunk_index'] = chunk_index\n"
     ]
    },
    {
     "name": "stdout",
     "output_type": "stream",
     "text": [
      "Chunk 125 processed and saved.\n",
      "Progress: 36/108 chunks processed.\n",
      "Estimated time remaining: 9913.57 seconds.\n",
      "Processing chunk 126...\n"
     ]
    },
    {
     "name": "stderr",
     "output_type": "stream",
     "text": [
      "C:\\Users\\jwright\\AppData\\Local\\Temp\\ipykernel_28352\\2638158900.py:49: PerformanceWarning: DataFrame is highly fragmented.  This is usually the result of calling `frame.insert` many times, which has poor performance.  Consider joining all columns at once using pd.concat(axis=1) instead. To get a de-fragmented frame, use `newframe = frame.copy()`\n",
      "  transformed_chunk['chunk_index'] = chunk_index\n"
     ]
    },
    {
     "name": "stdout",
     "output_type": "stream",
     "text": [
      "Chunk 126 processed and saved.\n",
      "Progress: 37/108 chunks processed.\n",
      "Estimated time remaining: 9748.02 seconds.\n",
      "Processing chunk 127...\n"
     ]
    },
    {
     "name": "stderr",
     "output_type": "stream",
     "text": [
      "C:\\Users\\jwright\\AppData\\Local\\Temp\\ipykernel_28352\\2638158900.py:49: PerformanceWarning: DataFrame is highly fragmented.  This is usually the result of calling `frame.insert` many times, which has poor performance.  Consider joining all columns at once using pd.concat(axis=1) instead. To get a de-fragmented frame, use `newframe = frame.copy()`\n",
      "  transformed_chunk['chunk_index'] = chunk_index\n"
     ]
    },
    {
     "name": "stdout",
     "output_type": "stream",
     "text": [
      "Chunk 127 processed and saved.\n",
      "Progress: 38/108 chunks processed.\n",
      "Estimated time remaining: 9583.36 seconds.\n",
      "Processing chunk 128...\n"
     ]
    },
    {
     "name": "stderr",
     "output_type": "stream",
     "text": [
      "C:\\Users\\jwright\\AppData\\Local\\Temp\\ipykernel_28352\\2638158900.py:49: PerformanceWarning: DataFrame is highly fragmented.  This is usually the result of calling `frame.insert` many times, which has poor performance.  Consider joining all columns at once using pd.concat(axis=1) instead. To get a de-fragmented frame, use `newframe = frame.copy()`\n",
      "  transformed_chunk['chunk_index'] = chunk_index\n"
     ]
    },
    {
     "name": "stdout",
     "output_type": "stream",
     "text": [
      "Chunk 128 processed and saved.\n",
      "Progress: 39/108 chunks processed.\n",
      "Estimated time remaining: 9421.06 seconds.\n",
      "Processing chunk 129...\n"
     ]
    },
    {
     "name": "stderr",
     "output_type": "stream",
     "text": [
      "C:\\Users\\jwright\\AppData\\Local\\Temp\\ipykernel_28352\\2638158900.py:49: PerformanceWarning: DataFrame is highly fragmented.  This is usually the result of calling `frame.insert` many times, which has poor performance.  Consider joining all columns at once using pd.concat(axis=1) instead. To get a de-fragmented frame, use `newframe = frame.copy()`\n",
      "  transformed_chunk['chunk_index'] = chunk_index\n"
     ]
    },
    {
     "name": "stdout",
     "output_type": "stream",
     "text": [
      "Chunk 129 processed and saved.\n",
      "Progress: 40/108 chunks processed.\n",
      "Estimated time remaining: 9258.65 seconds.\n",
      "Processing chunk 130...\n"
     ]
    },
    {
     "name": "stderr",
     "output_type": "stream",
     "text": [
      "C:\\Users\\jwright\\AppData\\Local\\Temp\\ipykernel_28352\\2638158900.py:49: PerformanceWarning: DataFrame is highly fragmented.  This is usually the result of calling `frame.insert` many times, which has poor performance.  Consider joining all columns at once using pd.concat(axis=1) instead. To get a de-fragmented frame, use `newframe = frame.copy()`\n",
      "  transformed_chunk['chunk_index'] = chunk_index\n"
     ]
    },
    {
     "name": "stdout",
     "output_type": "stream",
     "text": [
      "Chunk 130 processed and saved.\n",
      "Progress: 41/108 chunks processed.\n",
      "Estimated time remaining: 9099.23 seconds.\n",
      "Processing chunk 131...\n"
     ]
    },
    {
     "name": "stderr",
     "output_type": "stream",
     "text": [
      "C:\\Users\\jwright\\AppData\\Local\\Temp\\ipykernel_28352\\2638158900.py:49: PerformanceWarning: DataFrame is highly fragmented.  This is usually the result of calling `frame.insert` many times, which has poor performance.  Consider joining all columns at once using pd.concat(axis=1) instead. To get a de-fragmented frame, use `newframe = frame.copy()`\n",
      "  transformed_chunk['chunk_index'] = chunk_index\n"
     ]
    },
    {
     "name": "stdout",
     "output_type": "stream",
     "text": [
      "Chunk 131 processed and saved.\n",
      "Progress: 42/108 chunks processed.\n",
      "Estimated time remaining: 8941.99 seconds.\n",
      "Processing chunk 132...\n"
     ]
    },
    {
     "name": "stderr",
     "output_type": "stream",
     "text": [
      "C:\\Users\\jwright\\AppData\\Local\\Temp\\ipykernel_28352\\2638158900.py:49: PerformanceWarning: DataFrame is highly fragmented.  This is usually the result of calling `frame.insert` many times, which has poor performance.  Consider joining all columns at once using pd.concat(axis=1) instead. To get a de-fragmented frame, use `newframe = frame.copy()`\n",
      "  transformed_chunk['chunk_index'] = chunk_index\n"
     ]
    },
    {
     "name": "stdout",
     "output_type": "stream",
     "text": [
      "Chunk 132 processed and saved.\n",
      "Progress: 43/108 chunks processed.\n",
      "Estimated time remaining: 8786.07 seconds.\n",
      "Processing chunk 133...\n"
     ]
    },
    {
     "name": "stderr",
     "output_type": "stream",
     "text": [
      "C:\\Users\\jwright\\AppData\\Local\\Temp\\ipykernel_28352\\2638158900.py:49: PerformanceWarning: DataFrame is highly fragmented.  This is usually the result of calling `frame.insert` many times, which has poor performance.  Consider joining all columns at once using pd.concat(axis=1) instead. To get a de-fragmented frame, use `newframe = frame.copy()`\n",
      "  transformed_chunk['chunk_index'] = chunk_index\n"
     ]
    },
    {
     "name": "stdout",
     "output_type": "stream",
     "text": [
      "Chunk 133 processed and saved.\n",
      "Progress: 44/108 chunks processed.\n",
      "Estimated time remaining: 8630.78 seconds.\n",
      "Processing chunk 134...\n"
     ]
    },
    {
     "name": "stderr",
     "output_type": "stream",
     "text": [
      "C:\\Users\\jwright\\AppData\\Local\\Temp\\ipykernel_28352\\2638158900.py:49: PerformanceWarning: DataFrame is highly fragmented.  This is usually the result of calling `frame.insert` many times, which has poor performance.  Consider joining all columns at once using pd.concat(axis=1) instead. To get a de-fragmented frame, use `newframe = frame.copy()`\n",
      "  transformed_chunk['chunk_index'] = chunk_index\n"
     ]
    },
    {
     "name": "stdout",
     "output_type": "stream",
     "text": [
      "Chunk 134 processed and saved.\n",
      "Progress: 45/108 chunks processed.\n",
      "Estimated time remaining: 8477.26 seconds.\n",
      "Processing chunk 135...\n"
     ]
    },
    {
     "name": "stderr",
     "output_type": "stream",
     "text": [
      "C:\\Users\\jwright\\AppData\\Local\\Temp\\ipykernel_28352\\2638158900.py:49: PerformanceWarning: DataFrame is highly fragmented.  This is usually the result of calling `frame.insert` many times, which has poor performance.  Consider joining all columns at once using pd.concat(axis=1) instead. To get a de-fragmented frame, use `newframe = frame.copy()`\n",
      "  transformed_chunk['chunk_index'] = chunk_index\n"
     ]
    },
    {
     "name": "stdout",
     "output_type": "stream",
     "text": [
      "Chunk 135 processed and saved.\n",
      "Progress: 46/108 chunks processed.\n",
      "Estimated time remaining: 8325.35 seconds.\n",
      "Processing chunk 136...\n"
     ]
    },
    {
     "name": "stderr",
     "output_type": "stream",
     "text": [
      "C:\\Users\\jwright\\AppData\\Local\\Temp\\ipykernel_28352\\2638158900.py:49: PerformanceWarning: DataFrame is highly fragmented.  This is usually the result of calling `frame.insert` many times, which has poor performance.  Consider joining all columns at once using pd.concat(axis=1) instead. To get a de-fragmented frame, use `newframe = frame.copy()`\n",
      "  transformed_chunk['chunk_index'] = chunk_index\n"
     ]
    },
    {
     "name": "stdout",
     "output_type": "stream",
     "text": [
      "Chunk 136 processed and saved.\n",
      "Progress: 47/108 chunks processed.\n",
      "Estimated time remaining: 8176.13 seconds.\n",
      "Processing chunk 137...\n"
     ]
    },
    {
     "name": "stderr",
     "output_type": "stream",
     "text": [
      "C:\\Users\\jwright\\AppData\\Local\\Temp\\ipykernel_28352\\2638158900.py:49: PerformanceWarning: DataFrame is highly fragmented.  This is usually the result of calling `frame.insert` many times, which has poor performance.  Consider joining all columns at once using pd.concat(axis=1) instead. To get a de-fragmented frame, use `newframe = frame.copy()`\n",
      "  transformed_chunk['chunk_index'] = chunk_index\n"
     ]
    },
    {
     "name": "stdout",
     "output_type": "stream",
     "text": [
      "Chunk 137 processed and saved.\n",
      "Progress: 48/108 chunks processed.\n",
      "Estimated time remaining: 8029.21 seconds.\n",
      "Processing chunk 138...\n"
     ]
    },
    {
     "name": "stderr",
     "output_type": "stream",
     "text": [
      "C:\\Users\\jwright\\AppData\\Local\\Temp\\ipykernel_28352\\2638158900.py:49: PerformanceWarning: DataFrame is highly fragmented.  This is usually the result of calling `frame.insert` many times, which has poor performance.  Consider joining all columns at once using pd.concat(axis=1) instead. To get a de-fragmented frame, use `newframe = frame.copy()`\n",
      "  transformed_chunk['chunk_index'] = chunk_index\n"
     ]
    },
    {
     "name": "stdout",
     "output_type": "stream",
     "text": [
      "Chunk 138 processed and saved.\n",
      "Progress: 49/108 chunks processed.\n",
      "Estimated time remaining: 7882.20 seconds.\n",
      "Processing chunk 139...\n"
     ]
    },
    {
     "name": "stderr",
     "output_type": "stream",
     "text": [
      "C:\\Users\\jwright\\AppData\\Local\\Temp\\ipykernel_28352\\2638158900.py:49: PerformanceWarning: DataFrame is highly fragmented.  This is usually the result of calling `frame.insert` many times, which has poor performance.  Consider joining all columns at once using pd.concat(axis=1) instead. To get a de-fragmented frame, use `newframe = frame.copy()`\n",
      "  transformed_chunk['chunk_index'] = chunk_index\n"
     ]
    },
    {
     "name": "stdout",
     "output_type": "stream",
     "text": [
      "Chunk 139 processed and saved.\n",
      "Progress: 50/108 chunks processed.\n",
      "Estimated time remaining: 7735.55 seconds.\n",
      "Processing chunk 140...\n"
     ]
    },
    {
     "name": "stderr",
     "output_type": "stream",
     "text": [
      "C:\\Users\\jwright\\AppData\\Local\\Temp\\ipykernel_28352\\2638158900.py:49: PerformanceWarning: DataFrame is highly fragmented.  This is usually the result of calling `frame.insert` many times, which has poor performance.  Consider joining all columns at once using pd.concat(axis=1) instead. To get a de-fragmented frame, use `newframe = frame.copy()`\n",
      "  transformed_chunk['chunk_index'] = chunk_index\n"
     ]
    },
    {
     "name": "stdout",
     "output_type": "stream",
     "text": [
      "Chunk 140 processed and saved.\n",
      "Progress: 51/108 chunks processed.\n",
      "Estimated time remaining: 7588.73 seconds.\n",
      "Processing chunk 141...\n"
     ]
    },
    {
     "name": "stderr",
     "output_type": "stream",
     "text": [
      "C:\\Users\\jwright\\AppData\\Local\\Temp\\ipykernel_28352\\2638158900.py:49: PerformanceWarning: DataFrame is highly fragmented.  This is usually the result of calling `frame.insert` many times, which has poor performance.  Consider joining all columns at once using pd.concat(axis=1) instead. To get a de-fragmented frame, use `newframe = frame.copy()`\n",
      "  transformed_chunk['chunk_index'] = chunk_index\n"
     ]
    },
    {
     "name": "stdout",
     "output_type": "stream",
     "text": [
      "Chunk 141 processed and saved.\n",
      "Progress: 52/108 chunks processed.\n",
      "Estimated time remaining: 7443.35 seconds.\n",
      "Processing chunk 142...\n"
     ]
    },
    {
     "name": "stderr",
     "output_type": "stream",
     "text": [
      "C:\\Users\\jwright\\AppData\\Local\\Temp\\ipykernel_28352\\2638158900.py:49: PerformanceWarning: DataFrame is highly fragmented.  This is usually the result of calling `frame.insert` many times, which has poor performance.  Consider joining all columns at once using pd.concat(axis=1) instead. To get a de-fragmented frame, use `newframe = frame.copy()`\n",
      "  transformed_chunk['chunk_index'] = chunk_index\n"
     ]
    },
    {
     "name": "stdout",
     "output_type": "stream",
     "text": [
      "Chunk 142 processed and saved.\n",
      "Progress: 53/108 chunks processed.\n",
      "Estimated time remaining: 7299.17 seconds.\n",
      "Processing chunk 143...\n"
     ]
    },
    {
     "name": "stderr",
     "output_type": "stream",
     "text": [
      "C:\\Users\\jwright\\AppData\\Local\\Temp\\ipykernel_28352\\2638158900.py:49: PerformanceWarning: DataFrame is highly fragmented.  This is usually the result of calling `frame.insert` many times, which has poor performance.  Consider joining all columns at once using pd.concat(axis=1) instead. To get a de-fragmented frame, use `newframe = frame.copy()`\n",
      "  transformed_chunk['chunk_index'] = chunk_index\n"
     ]
    },
    {
     "name": "stdout",
     "output_type": "stream",
     "text": [
      "Chunk 143 processed and saved.\n",
      "Progress: 54/108 chunks processed.\n",
      "Estimated time remaining: 7157.76 seconds.\n",
      "Processing chunk 144...\n"
     ]
    },
    {
     "name": "stderr",
     "output_type": "stream",
     "text": [
      "C:\\Users\\jwright\\AppData\\Local\\Temp\\ipykernel_28352\\2638158900.py:49: PerformanceWarning: DataFrame is highly fragmented.  This is usually the result of calling `frame.insert` many times, which has poor performance.  Consider joining all columns at once using pd.concat(axis=1) instead. To get a de-fragmented frame, use `newframe = frame.copy()`\n",
      "  transformed_chunk['chunk_index'] = chunk_index\n"
     ]
    },
    {
     "name": "stdout",
     "output_type": "stream",
     "text": [
      "Chunk 144 processed and saved.\n",
      "Progress: 55/108 chunks processed.\n",
      "Estimated time remaining: 7014.45 seconds.\n",
      "Processing chunk 145...\n"
     ]
    },
    {
     "name": "stderr",
     "output_type": "stream",
     "text": [
      "C:\\Users\\jwright\\AppData\\Local\\Temp\\ipykernel_28352\\2638158900.py:49: PerformanceWarning: DataFrame is highly fragmented.  This is usually the result of calling `frame.insert` many times, which has poor performance.  Consider joining all columns at once using pd.concat(axis=1) instead. To get a de-fragmented frame, use `newframe = frame.copy()`\n",
      "  transformed_chunk['chunk_index'] = chunk_index\n"
     ]
    },
    {
     "name": "stdout",
     "output_type": "stream",
     "text": [
      "Chunk 145 processed and saved.\n",
      "Progress: 56/108 chunks processed.\n",
      "Estimated time remaining: 6873.22 seconds.\n",
      "Processing chunk 146...\n"
     ]
    },
    {
     "name": "stderr",
     "output_type": "stream",
     "text": [
      "C:\\Users\\jwright\\AppData\\Local\\Temp\\ipykernel_28352\\2638158900.py:49: PerformanceWarning: DataFrame is highly fragmented.  This is usually the result of calling `frame.insert` many times, which has poor performance.  Consider joining all columns at once using pd.concat(axis=1) instead. To get a de-fragmented frame, use `newframe = frame.copy()`\n",
      "  transformed_chunk['chunk_index'] = chunk_index\n"
     ]
    },
    {
     "name": "stdout",
     "output_type": "stream",
     "text": [
      "Chunk 146 processed and saved.\n",
      "Progress: 57/108 chunks processed.\n",
      "Estimated time remaining: 6733.83 seconds.\n",
      "Processing chunk 147...\n"
     ]
    },
    {
     "name": "stderr",
     "output_type": "stream",
     "text": [
      "C:\\Users\\jwright\\AppData\\Local\\Temp\\ipykernel_28352\\2638158900.py:49: PerformanceWarning: DataFrame is highly fragmented.  This is usually the result of calling `frame.insert` many times, which has poor performance.  Consider joining all columns at once using pd.concat(axis=1) instead. To get a de-fragmented frame, use `newframe = frame.copy()`\n",
      "  transformed_chunk['chunk_index'] = chunk_index\n"
     ]
    },
    {
     "name": "stdout",
     "output_type": "stream",
     "text": [
      "Chunk 147 processed and saved.\n",
      "Progress: 58/108 chunks processed.\n",
      "Estimated time remaining: 6592.70 seconds.\n",
      "Processing chunk 148...\n"
     ]
    },
    {
     "name": "stderr",
     "output_type": "stream",
     "text": [
      "C:\\Users\\jwright\\AppData\\Local\\Temp\\ipykernel_28352\\2638158900.py:49: PerformanceWarning: DataFrame is highly fragmented.  This is usually the result of calling `frame.insert` many times, which has poor performance.  Consider joining all columns at once using pd.concat(axis=1) instead. To get a de-fragmented frame, use `newframe = frame.copy()`\n",
      "  transformed_chunk['chunk_index'] = chunk_index\n"
     ]
    },
    {
     "name": "stdout",
     "output_type": "stream",
     "text": [
      "Chunk 148 processed and saved.\n",
      "Progress: 59/108 chunks processed.\n",
      "Estimated time remaining: 6453.64 seconds.\n",
      "Processing chunk 149...\n"
     ]
    },
    {
     "name": "stderr",
     "output_type": "stream",
     "text": [
      "C:\\Users\\jwright\\AppData\\Local\\Temp\\ipykernel_28352\\2638158900.py:49: PerformanceWarning: DataFrame is highly fragmented.  This is usually the result of calling `frame.insert` many times, which has poor performance.  Consider joining all columns at once using pd.concat(axis=1) instead. To get a de-fragmented frame, use `newframe = frame.copy()`\n",
      "  transformed_chunk['chunk_index'] = chunk_index\n"
     ]
    },
    {
     "name": "stdout",
     "output_type": "stream",
     "text": [
      "Chunk 149 processed and saved.\n",
      "Progress: 60/108 chunks processed.\n",
      "Estimated time remaining: 6315.27 seconds.\n",
      "Processing chunk 150...\n"
     ]
    },
    {
     "name": "stderr",
     "output_type": "stream",
     "text": [
      "C:\\Users\\jwright\\AppData\\Local\\Temp\\ipykernel_28352\\2638158900.py:49: PerformanceWarning: DataFrame is highly fragmented.  This is usually the result of calling `frame.insert` many times, which has poor performance.  Consider joining all columns at once using pd.concat(axis=1) instead. To get a de-fragmented frame, use `newframe = frame.copy()`\n",
      "  transformed_chunk['chunk_index'] = chunk_index\n"
     ]
    },
    {
     "name": "stdout",
     "output_type": "stream",
     "text": [
      "Chunk 150 processed and saved.\n",
      "Progress: 61/108 chunks processed.\n",
      "Estimated time remaining: 6175.62 seconds.\n",
      "Processing chunk 151...\n"
     ]
    },
    {
     "name": "stderr",
     "output_type": "stream",
     "text": [
      "C:\\Users\\jwright\\AppData\\Local\\Temp\\ipykernel_28352\\2638158900.py:49: PerformanceWarning: DataFrame is highly fragmented.  This is usually the result of calling `frame.insert` many times, which has poor performance.  Consider joining all columns at once using pd.concat(axis=1) instead. To get a de-fragmented frame, use `newframe = frame.copy()`\n",
      "  transformed_chunk['chunk_index'] = chunk_index\n"
     ]
    },
    {
     "name": "stdout",
     "output_type": "stream",
     "text": [
      "Chunk 151 processed and saved.\n",
      "Progress: 62/108 chunks processed.\n",
      "Estimated time remaining: 6037.66 seconds.\n",
      "Processing chunk 152...\n"
     ]
    },
    {
     "name": "stderr",
     "output_type": "stream",
     "text": [
      "C:\\Users\\jwright\\AppData\\Local\\Temp\\ipykernel_28352\\2638158900.py:49: PerformanceWarning: DataFrame is highly fragmented.  This is usually the result of calling `frame.insert` many times, which has poor performance.  Consider joining all columns at once using pd.concat(axis=1) instead. To get a de-fragmented frame, use `newframe = frame.copy()`\n",
      "  transformed_chunk['chunk_index'] = chunk_index\n"
     ]
    },
    {
     "name": "stdout",
     "output_type": "stream",
     "text": [
      "Chunk 152 processed and saved.\n",
      "Progress: 63/108 chunks processed.\n",
      "Estimated time remaining: 5900.90 seconds.\n",
      "Processing chunk 153...\n"
     ]
    },
    {
     "name": "stderr",
     "output_type": "stream",
     "text": [
      "C:\\Users\\jwright\\AppData\\Local\\Temp\\ipykernel_28352\\2638158900.py:49: PerformanceWarning: DataFrame is highly fragmented.  This is usually the result of calling `frame.insert` many times, which has poor performance.  Consider joining all columns at once using pd.concat(axis=1) instead. To get a de-fragmented frame, use `newframe = frame.copy()`\n",
      "  transformed_chunk['chunk_index'] = chunk_index\n"
     ]
    },
    {
     "name": "stdout",
     "output_type": "stream",
     "text": [
      "Chunk 153 processed and saved.\n",
      "Progress: 64/108 chunks processed.\n",
      "Estimated time remaining: 5763.28 seconds.\n",
      "Processing chunk 154...\n"
     ]
    },
    {
     "name": "stderr",
     "output_type": "stream",
     "text": [
      "C:\\Users\\jwright\\AppData\\Local\\Temp\\ipykernel_28352\\2638158900.py:49: PerformanceWarning: DataFrame is highly fragmented.  This is usually the result of calling `frame.insert` many times, which has poor performance.  Consider joining all columns at once using pd.concat(axis=1) instead. To get a de-fragmented frame, use `newframe = frame.copy()`\n",
      "  transformed_chunk['chunk_index'] = chunk_index\n"
     ]
    },
    {
     "name": "stdout",
     "output_type": "stream",
     "text": [
      "Chunk 154 processed and saved.\n",
      "Progress: 65/108 chunks processed.\n",
      "Estimated time remaining: 5628.57 seconds.\n",
      "Processing chunk 155...\n"
     ]
    },
    {
     "name": "stderr",
     "output_type": "stream",
     "text": [
      "C:\\Users\\jwright\\AppData\\Local\\Temp\\ipykernel_28352\\2638158900.py:49: PerformanceWarning: DataFrame is highly fragmented.  This is usually the result of calling `frame.insert` many times, which has poor performance.  Consider joining all columns at once using pd.concat(axis=1) instead. To get a de-fragmented frame, use `newframe = frame.copy()`\n",
      "  transformed_chunk['chunk_index'] = chunk_index\n"
     ]
    },
    {
     "name": "stdout",
     "output_type": "stream",
     "text": [
      "Chunk 155 processed and saved.\n",
      "Progress: 66/108 chunks processed.\n",
      "Estimated time remaining: 5492.64 seconds.\n",
      "Processing chunk 156...\n"
     ]
    },
    {
     "name": "stderr",
     "output_type": "stream",
     "text": [
      "C:\\Users\\jwright\\AppData\\Local\\Temp\\ipykernel_28352\\2638158900.py:49: PerformanceWarning: DataFrame is highly fragmented.  This is usually the result of calling `frame.insert` many times, which has poor performance.  Consider joining all columns at once using pd.concat(axis=1) instead. To get a de-fragmented frame, use `newframe = frame.copy()`\n",
      "  transformed_chunk['chunk_index'] = chunk_index\n"
     ]
    },
    {
     "name": "stdout",
     "output_type": "stream",
     "text": [
      "Chunk 156 processed and saved.\n",
      "Progress: 67/108 chunks processed.\n",
      "Estimated time remaining: 5356.77 seconds.\n",
      "Processing chunk 157...\n"
     ]
    },
    {
     "name": "stderr",
     "output_type": "stream",
     "text": [
      "C:\\Users\\jwright\\AppData\\Local\\Temp\\ipykernel_28352\\2638158900.py:49: PerformanceWarning: DataFrame is highly fragmented.  This is usually the result of calling `frame.insert` many times, which has poor performance.  Consider joining all columns at once using pd.concat(axis=1) instead. To get a de-fragmented frame, use `newframe = frame.copy()`\n",
      "  transformed_chunk['chunk_index'] = chunk_index\n"
     ]
    },
    {
     "name": "stdout",
     "output_type": "stream",
     "text": [
      "Chunk 157 processed and saved.\n",
      "Progress: 68/108 chunks processed.\n",
      "Estimated time remaining: 5220.83 seconds.\n",
      "Processing chunk 158...\n"
     ]
    },
    {
     "name": "stderr",
     "output_type": "stream",
     "text": [
      "C:\\Users\\jwright\\AppData\\Local\\Temp\\ipykernel_28352\\2638158900.py:49: PerformanceWarning: DataFrame is highly fragmented.  This is usually the result of calling `frame.insert` many times, which has poor performance.  Consider joining all columns at once using pd.concat(axis=1) instead. To get a de-fragmented frame, use `newframe = frame.copy()`\n",
      "  transformed_chunk['chunk_index'] = chunk_index\n"
     ]
    },
    {
     "name": "stdout",
     "output_type": "stream",
     "text": [
      "Chunk 158 processed and saved.\n",
      "Progress: 69/108 chunks processed.\n",
      "Estimated time remaining: 5087.16 seconds.\n",
      "Processing chunk 159...\n"
     ]
    },
    {
     "name": "stderr",
     "output_type": "stream",
     "text": [
      "C:\\Users\\jwright\\AppData\\Local\\Temp\\ipykernel_28352\\2638158900.py:49: PerformanceWarning: DataFrame is highly fragmented.  This is usually the result of calling `frame.insert` many times, which has poor performance.  Consider joining all columns at once using pd.concat(axis=1) instead. To get a de-fragmented frame, use `newframe = frame.copy()`\n",
      "  transformed_chunk['chunk_index'] = chunk_index\n"
     ]
    },
    {
     "name": "stdout",
     "output_type": "stream",
     "text": [
      "Chunk 159 processed and saved.\n",
      "Progress: 70/108 chunks processed.\n",
      "Estimated time remaining: 4951.86 seconds.\n",
      "Processing chunk 160...\n"
     ]
    },
    {
     "name": "stderr",
     "output_type": "stream",
     "text": [
      "C:\\Users\\jwright\\AppData\\Local\\Temp\\ipykernel_28352\\2638158900.py:49: PerformanceWarning: DataFrame is highly fragmented.  This is usually the result of calling `frame.insert` many times, which has poor performance.  Consider joining all columns at once using pd.concat(axis=1) instead. To get a de-fragmented frame, use `newframe = frame.copy()`\n",
      "  transformed_chunk['chunk_index'] = chunk_index\n"
     ]
    },
    {
     "name": "stdout",
     "output_type": "stream",
     "text": [
      "Chunk 160 processed and saved.\n",
      "Progress: 71/108 chunks processed.\n",
      "Estimated time remaining: 4818.16 seconds.\n",
      "Processing chunk 161...\n"
     ]
    },
    {
     "name": "stderr",
     "output_type": "stream",
     "text": [
      "C:\\Users\\jwright\\AppData\\Local\\Temp\\ipykernel_28352\\2638158900.py:49: PerformanceWarning: DataFrame is highly fragmented.  This is usually the result of calling `frame.insert` many times, which has poor performance.  Consider joining all columns at once using pd.concat(axis=1) instead. To get a de-fragmented frame, use `newframe = frame.copy()`\n",
      "  transformed_chunk['chunk_index'] = chunk_index\n"
     ]
    },
    {
     "name": "stdout",
     "output_type": "stream",
     "text": [
      "Chunk 161 processed and saved.\n",
      "Progress: 72/108 chunks processed.\n",
      "Estimated time remaining: 4684.31 seconds.\n",
      "Processing chunk 162...\n"
     ]
    },
    {
     "name": "stderr",
     "output_type": "stream",
     "text": [
      "C:\\Users\\jwright\\AppData\\Local\\Temp\\ipykernel_28352\\2638158900.py:49: PerformanceWarning: DataFrame is highly fragmented.  This is usually the result of calling `frame.insert` many times, which has poor performance.  Consider joining all columns at once using pd.concat(axis=1) instead. To get a de-fragmented frame, use `newframe = frame.copy()`\n",
      "  transformed_chunk['chunk_index'] = chunk_index\n"
     ]
    },
    {
     "name": "stdout",
     "output_type": "stream",
     "text": [
      "Chunk 162 processed and saved.\n",
      "Progress: 73/108 chunks processed.\n",
      "Estimated time remaining: 4549.81 seconds.\n",
      "Processing chunk 163...\n"
     ]
    },
    {
     "name": "stderr",
     "output_type": "stream",
     "text": [
      "C:\\Users\\jwright\\AppData\\Local\\Temp\\ipykernel_28352\\2638158900.py:49: PerformanceWarning: DataFrame is highly fragmented.  This is usually the result of calling `frame.insert` many times, which has poor performance.  Consider joining all columns at once using pd.concat(axis=1) instead. To get a de-fragmented frame, use `newframe = frame.copy()`\n",
      "  transformed_chunk['chunk_index'] = chunk_index\n"
     ]
    },
    {
     "name": "stdout",
     "output_type": "stream",
     "text": [
      "Chunk 163 processed and saved.\n",
      "Progress: 74/108 chunks processed.\n",
      "Estimated time remaining: 4416.96 seconds.\n",
      "Processing chunk 164...\n"
     ]
    },
    {
     "name": "stderr",
     "output_type": "stream",
     "text": [
      "C:\\Users\\jwright\\AppData\\Local\\Temp\\ipykernel_28352\\2638158900.py:49: PerformanceWarning: DataFrame is highly fragmented.  This is usually the result of calling `frame.insert` many times, which has poor performance.  Consider joining all columns at once using pd.concat(axis=1) instead. To get a de-fragmented frame, use `newframe = frame.copy()`\n",
      "  transformed_chunk['chunk_index'] = chunk_index\n"
     ]
    },
    {
     "name": "stdout",
     "output_type": "stream",
     "text": [
      "Chunk 164 processed and saved.\n",
      "Progress: 75/108 chunks processed.\n",
      "Estimated time remaining: 4284.65 seconds.\n",
      "Processing chunk 165...\n"
     ]
    },
    {
     "name": "stderr",
     "output_type": "stream",
     "text": [
      "C:\\Users\\jwright\\AppData\\Local\\Temp\\ipykernel_28352\\2638158900.py:49: PerformanceWarning: DataFrame is highly fragmented.  This is usually the result of calling `frame.insert` many times, which has poor performance.  Consider joining all columns at once using pd.concat(axis=1) instead. To get a de-fragmented frame, use `newframe = frame.copy()`\n",
      "  transformed_chunk['chunk_index'] = chunk_index\n"
     ]
    },
    {
     "name": "stdout",
     "output_type": "stream",
     "text": [
      "Chunk 165 processed and saved.\n",
      "Progress: 76/108 chunks processed.\n",
      "Estimated time remaining: 4151.64 seconds.\n",
      "Processing chunk 166...\n"
     ]
    },
    {
     "name": "stderr",
     "output_type": "stream",
     "text": [
      "C:\\Users\\jwright\\AppData\\Local\\Temp\\ipykernel_28352\\2638158900.py:49: PerformanceWarning: DataFrame is highly fragmented.  This is usually the result of calling `frame.insert` many times, which has poor performance.  Consider joining all columns at once using pd.concat(axis=1) instead. To get a de-fragmented frame, use `newframe = frame.copy()`\n",
      "  transformed_chunk['chunk_index'] = chunk_index\n"
     ]
    },
    {
     "name": "stdout",
     "output_type": "stream",
     "text": [
      "Chunk 166 processed and saved.\n",
      "Progress: 77/108 chunks processed.\n",
      "Estimated time remaining: 4019.01 seconds.\n",
      "Processing chunk 167...\n"
     ]
    },
    {
     "name": "stderr",
     "output_type": "stream",
     "text": [
      "C:\\Users\\jwright\\AppData\\Local\\Temp\\ipykernel_28352\\2638158900.py:49: PerformanceWarning: DataFrame is highly fragmented.  This is usually the result of calling `frame.insert` many times, which has poor performance.  Consider joining all columns at once using pd.concat(axis=1) instead. To get a de-fragmented frame, use `newframe = frame.copy()`\n",
      "  transformed_chunk['chunk_index'] = chunk_index\n"
     ]
    },
    {
     "name": "stdout",
     "output_type": "stream",
     "text": [
      "Chunk 167 processed and saved.\n",
      "Progress: 78/108 chunks processed.\n",
      "Estimated time remaining: 3887.51 seconds.\n",
      "Processing chunk 168...\n"
     ]
    },
    {
     "name": "stderr",
     "output_type": "stream",
     "text": [
      "C:\\Users\\jwright\\AppData\\Local\\Temp\\ipykernel_28352\\2638158900.py:49: PerformanceWarning: DataFrame is highly fragmented.  This is usually the result of calling `frame.insert` many times, which has poor performance.  Consider joining all columns at once using pd.concat(axis=1) instead. To get a de-fragmented frame, use `newframe = frame.copy()`\n",
      "  transformed_chunk['chunk_index'] = chunk_index\n"
     ]
    },
    {
     "name": "stdout",
     "output_type": "stream",
     "text": [
      "Chunk 168 processed and saved.\n",
      "Progress: 79/108 chunks processed.\n",
      "Estimated time remaining: 3755.33 seconds.\n",
      "Processing chunk 169...\n"
     ]
    },
    {
     "name": "stderr",
     "output_type": "stream",
     "text": [
      "C:\\Users\\jwright\\AppData\\Local\\Temp\\ipykernel_28352\\2638158900.py:49: PerformanceWarning: DataFrame is highly fragmented.  This is usually the result of calling `frame.insert` many times, which has poor performance.  Consider joining all columns at once using pd.concat(axis=1) instead. To get a de-fragmented frame, use `newframe = frame.copy()`\n",
      "  transformed_chunk['chunk_index'] = chunk_index\n"
     ]
    },
    {
     "name": "stdout",
     "output_type": "stream",
     "text": [
      "Chunk 169 processed and saved.\n",
      "Progress: 80/108 chunks processed.\n",
      "Estimated time remaining: 3623.51 seconds.\n",
      "Processing chunk 170...\n"
     ]
    },
    {
     "name": "stderr",
     "output_type": "stream",
     "text": [
      "C:\\Users\\jwright\\AppData\\Local\\Temp\\ipykernel_28352\\2638158900.py:49: PerformanceWarning: DataFrame is highly fragmented.  This is usually the result of calling `frame.insert` many times, which has poor performance.  Consider joining all columns at once using pd.concat(axis=1) instead. To get a de-fragmented frame, use `newframe = frame.copy()`\n",
      "  transformed_chunk['chunk_index'] = chunk_index\n"
     ]
    },
    {
     "name": "stdout",
     "output_type": "stream",
     "text": [
      "Chunk 170 processed and saved.\n",
      "Progress: 81/108 chunks processed.\n",
      "Estimated time remaining: 3491.93 seconds.\n",
      "Processing chunk 171...\n"
     ]
    },
    {
     "name": "stderr",
     "output_type": "stream",
     "text": [
      "C:\\Users\\jwright\\AppData\\Local\\Temp\\ipykernel_28352\\2638158900.py:49: PerformanceWarning: DataFrame is highly fragmented.  This is usually the result of calling `frame.insert` many times, which has poor performance.  Consider joining all columns at once using pd.concat(axis=1) instead. To get a de-fragmented frame, use `newframe = frame.copy()`\n",
      "  transformed_chunk['chunk_index'] = chunk_index\n"
     ]
    },
    {
     "name": "stdout",
     "output_type": "stream",
     "text": [
      "Chunk 171 processed and saved.\n",
      "Progress: 82/108 chunks processed.\n",
      "Estimated time remaining: 3360.70 seconds.\n",
      "Processing chunk 172...\n"
     ]
    },
    {
     "name": "stderr",
     "output_type": "stream",
     "text": [
      "C:\\Users\\jwright\\AppData\\Local\\Temp\\ipykernel_28352\\2638158900.py:49: PerformanceWarning: DataFrame is highly fragmented.  This is usually the result of calling `frame.insert` many times, which has poor performance.  Consider joining all columns at once using pd.concat(axis=1) instead. To get a de-fragmented frame, use `newframe = frame.copy()`\n",
      "  transformed_chunk['chunk_index'] = chunk_index\n"
     ]
    },
    {
     "name": "stdout",
     "output_type": "stream",
     "text": [
      "Chunk 172 processed and saved.\n",
      "Progress: 83/108 chunks processed.\n",
      "Estimated time remaining: 3229.14 seconds.\n",
      "Processing chunk 173...\n"
     ]
    },
    {
     "name": "stderr",
     "output_type": "stream",
     "text": [
      "C:\\Users\\jwright\\AppData\\Local\\Temp\\ipykernel_28352\\2638158900.py:49: PerformanceWarning: DataFrame is highly fragmented.  This is usually the result of calling `frame.insert` many times, which has poor performance.  Consider joining all columns at once using pd.concat(axis=1) instead. To get a de-fragmented frame, use `newframe = frame.copy()`\n",
      "  transformed_chunk['chunk_index'] = chunk_index\n"
     ]
    },
    {
     "name": "stdout",
     "output_type": "stream",
     "text": [
      "Chunk 173 processed and saved.\n",
      "Progress: 84/108 chunks processed.\n",
      "Estimated time remaining: 3098.52 seconds.\n",
      "Processing chunk 174...\n"
     ]
    },
    {
     "name": "stderr",
     "output_type": "stream",
     "text": [
      "C:\\Users\\jwright\\AppData\\Local\\Temp\\ipykernel_28352\\2638158900.py:49: PerformanceWarning: DataFrame is highly fragmented.  This is usually the result of calling `frame.insert` many times, which has poor performance.  Consider joining all columns at once using pd.concat(axis=1) instead. To get a de-fragmented frame, use `newframe = frame.copy()`\n",
      "  transformed_chunk['chunk_index'] = chunk_index\n"
     ]
    },
    {
     "name": "stdout",
     "output_type": "stream",
     "text": [
      "Chunk 174 processed and saved.\n",
      "Progress: 85/108 chunks processed.\n",
      "Estimated time remaining: 2967.64 seconds.\n",
      "Processing chunk 175...\n"
     ]
    },
    {
     "name": "stderr",
     "output_type": "stream",
     "text": [
      "C:\\Users\\jwright\\AppData\\Local\\Temp\\ipykernel_28352\\2638158900.py:49: PerformanceWarning: DataFrame is highly fragmented.  This is usually the result of calling `frame.insert` many times, which has poor performance.  Consider joining all columns at once using pd.concat(axis=1) instead. To get a de-fragmented frame, use `newframe = frame.copy()`\n",
      "  transformed_chunk['chunk_index'] = chunk_index\n"
     ]
    },
    {
     "name": "stdout",
     "output_type": "stream",
     "text": [
      "Chunk 175 processed and saved.\n",
      "Progress: 86/108 chunks processed.\n",
      "Estimated time remaining: 2837.43 seconds.\n",
      "Processing chunk 176...\n"
     ]
    },
    {
     "name": "stderr",
     "output_type": "stream",
     "text": [
      "C:\\Users\\jwright\\AppData\\Local\\Temp\\ipykernel_28352\\2638158900.py:49: PerformanceWarning: DataFrame is highly fragmented.  This is usually the result of calling `frame.insert` many times, which has poor performance.  Consider joining all columns at once using pd.concat(axis=1) instead. To get a de-fragmented frame, use `newframe = frame.copy()`\n",
      "  transformed_chunk['chunk_index'] = chunk_index\n"
     ]
    },
    {
     "name": "stdout",
     "output_type": "stream",
     "text": [
      "Chunk 176 processed and saved.\n",
      "Progress: 87/108 chunks processed.\n",
      "Estimated time remaining: 2707.17 seconds.\n",
      "Processing chunk 177...\n"
     ]
    },
    {
     "name": "stderr",
     "output_type": "stream",
     "text": [
      "C:\\Users\\jwright\\AppData\\Local\\Temp\\ipykernel_28352\\2638158900.py:49: PerformanceWarning: DataFrame is highly fragmented.  This is usually the result of calling `frame.insert` many times, which has poor performance.  Consider joining all columns at once using pd.concat(axis=1) instead. To get a de-fragmented frame, use `newframe = frame.copy()`\n",
      "  transformed_chunk['chunk_index'] = chunk_index\n"
     ]
    },
    {
     "name": "stdout",
     "output_type": "stream",
     "text": [
      "Chunk 177 processed and saved.\n",
      "Progress: 88/108 chunks processed.\n",
      "Estimated time remaining: 2577.02 seconds.\n",
      "Processing chunk 178...\n"
     ]
    },
    {
     "name": "stderr",
     "output_type": "stream",
     "text": [
      "C:\\Users\\jwright\\AppData\\Local\\Temp\\ipykernel_28352\\2638158900.py:49: PerformanceWarning: DataFrame is highly fragmented.  This is usually the result of calling `frame.insert` many times, which has poor performance.  Consider joining all columns at once using pd.concat(axis=1) instead. To get a de-fragmented frame, use `newframe = frame.copy()`\n",
      "  transformed_chunk['chunk_index'] = chunk_index\n"
     ]
    },
    {
     "name": "stdout",
     "output_type": "stream",
     "text": [
      "Chunk 178 processed and saved.\n",
      "Progress: 89/108 chunks processed.\n",
      "Estimated time remaining: 2447.03 seconds.\n",
      "Processing chunk 179...\n"
     ]
    },
    {
     "name": "stderr",
     "output_type": "stream",
     "text": [
      "C:\\Users\\jwright\\AppData\\Local\\Temp\\ipykernel_28352\\2638158900.py:49: PerformanceWarning: DataFrame is highly fragmented.  This is usually the result of calling `frame.insert` many times, which has poor performance.  Consider joining all columns at once using pd.concat(axis=1) instead. To get a de-fragmented frame, use `newframe = frame.copy()`\n",
      "  transformed_chunk['chunk_index'] = chunk_index\n"
     ]
    },
    {
     "name": "stdout",
     "output_type": "stream",
     "text": [
      "Chunk 179 processed and saved.\n",
      "Progress: 90/108 chunks processed.\n",
      "Estimated time remaining: 2317.04 seconds.\n",
      "Processing chunk 180...\n"
     ]
    },
    {
     "name": "stderr",
     "output_type": "stream",
     "text": [
      "C:\\Users\\jwright\\AppData\\Local\\Temp\\ipykernel_28352\\2638158900.py:49: PerformanceWarning: DataFrame is highly fragmented.  This is usually the result of calling `frame.insert` many times, which has poor performance.  Consider joining all columns at once using pd.concat(axis=1) instead. To get a de-fragmented frame, use `newframe = frame.copy()`\n",
      "  transformed_chunk['chunk_index'] = chunk_index\n"
     ]
    },
    {
     "name": "stdout",
     "output_type": "stream",
     "text": [
      "Chunk 180 processed and saved.\n",
      "Progress: 91/108 chunks processed.\n",
      "Estimated time remaining: 2187.14 seconds.\n",
      "Processing chunk 181...\n"
     ]
    },
    {
     "name": "stderr",
     "output_type": "stream",
     "text": [
      "C:\\Users\\jwright\\AppData\\Local\\Temp\\ipykernel_28352\\2638158900.py:49: PerformanceWarning: DataFrame is highly fragmented.  This is usually the result of calling `frame.insert` many times, which has poor performance.  Consider joining all columns at once using pd.concat(axis=1) instead. To get a de-fragmented frame, use `newframe = frame.copy()`\n",
      "  transformed_chunk['chunk_index'] = chunk_index\n"
     ]
    },
    {
     "name": "stdout",
     "output_type": "stream",
     "text": [
      "Chunk 181 processed and saved.\n",
      "Progress: 92/108 chunks processed.\n",
      "Estimated time remaining: 2057.83 seconds.\n",
      "Processing chunk 182...\n"
     ]
    },
    {
     "name": "stderr",
     "output_type": "stream",
     "text": [
      "C:\\Users\\jwright\\AppData\\Local\\Temp\\ipykernel_28352\\2638158900.py:49: PerformanceWarning: DataFrame is highly fragmented.  This is usually the result of calling `frame.insert` many times, which has poor performance.  Consider joining all columns at once using pd.concat(axis=1) instead. To get a de-fragmented frame, use `newframe = frame.copy()`\n",
      "  transformed_chunk['chunk_index'] = chunk_index\n"
     ]
    },
    {
     "name": "stdout",
     "output_type": "stream",
     "text": [
      "Chunk 182 processed and saved.\n",
      "Progress: 93/108 chunks processed.\n",
      "Estimated time remaining: 1928.89 seconds.\n",
      "Processing chunk 183...\n"
     ]
    },
    {
     "name": "stderr",
     "output_type": "stream",
     "text": [
      "C:\\Users\\jwright\\AppData\\Local\\Temp\\ipykernel_28352\\2638158900.py:49: PerformanceWarning: DataFrame is highly fragmented.  This is usually the result of calling `frame.insert` many times, which has poor performance.  Consider joining all columns at once using pd.concat(axis=1) instead. To get a de-fragmented frame, use `newframe = frame.copy()`\n",
      "  transformed_chunk['chunk_index'] = chunk_index\n"
     ]
    },
    {
     "name": "stdout",
     "output_type": "stream",
     "text": [
      "Chunk 183 processed and saved.\n",
      "Progress: 94/108 chunks processed.\n",
      "Estimated time remaining: 1799.54 seconds.\n",
      "Processing chunk 184...\n"
     ]
    },
    {
     "name": "stderr",
     "output_type": "stream",
     "text": [
      "C:\\Users\\jwright\\AppData\\Local\\Temp\\ipykernel_28352\\2638158900.py:49: PerformanceWarning: DataFrame is highly fragmented.  This is usually the result of calling `frame.insert` many times, which has poor performance.  Consider joining all columns at once using pd.concat(axis=1) instead. To get a de-fragmented frame, use `newframe = frame.copy()`\n",
      "  transformed_chunk['chunk_index'] = chunk_index\n"
     ]
    },
    {
     "name": "stdout",
     "output_type": "stream",
     "text": [
      "Chunk 184 processed and saved.\n",
      "Progress: 95/108 chunks processed.\n",
      "Estimated time remaining: 1670.22 seconds.\n",
      "Processing chunk 185...\n"
     ]
    },
    {
     "name": "stderr",
     "output_type": "stream",
     "text": [
      "C:\\Users\\jwright\\AppData\\Local\\Temp\\ipykernel_28352\\2638158900.py:49: PerformanceWarning: DataFrame is highly fragmented.  This is usually the result of calling `frame.insert` many times, which has poor performance.  Consider joining all columns at once using pd.concat(axis=1) instead. To get a de-fragmented frame, use `newframe = frame.copy()`\n",
      "  transformed_chunk['chunk_index'] = chunk_index\n"
     ]
    },
    {
     "name": "stdout",
     "output_type": "stream",
     "text": [
      "Chunk 185 processed and saved.\n",
      "Progress: 96/108 chunks processed.\n",
      "Estimated time remaining: 1541.18 seconds.\n",
      "Processing chunk 186...\n"
     ]
    },
    {
     "name": "stderr",
     "output_type": "stream",
     "text": [
      "C:\\Users\\jwright\\AppData\\Local\\Temp\\ipykernel_28352\\2638158900.py:49: PerformanceWarning: DataFrame is highly fragmented.  This is usually the result of calling `frame.insert` many times, which has poor performance.  Consider joining all columns at once using pd.concat(axis=1) instead. To get a de-fragmented frame, use `newframe = frame.copy()`\n",
      "  transformed_chunk['chunk_index'] = chunk_index\n"
     ]
    },
    {
     "name": "stdout",
     "output_type": "stream",
     "text": [
      "Chunk 186 processed and saved.\n",
      "Progress: 97/108 chunks processed.\n",
      "Estimated time remaining: 1412.08 seconds.\n",
      "Processing chunk 187...\n"
     ]
    },
    {
     "name": "stderr",
     "output_type": "stream",
     "text": [
      "C:\\Users\\jwright\\AppData\\Local\\Temp\\ipykernel_28352\\2638158900.py:49: PerformanceWarning: DataFrame is highly fragmented.  This is usually the result of calling `frame.insert` many times, which has poor performance.  Consider joining all columns at once using pd.concat(axis=1) instead. To get a de-fragmented frame, use `newframe = frame.copy()`\n",
      "  transformed_chunk['chunk_index'] = chunk_index\n"
     ]
    },
    {
     "name": "stdout",
     "output_type": "stream",
     "text": [
      "Chunk 187 processed and saved.\n",
      "Progress: 98/108 chunks processed.\n",
      "Estimated time remaining: 1283.06 seconds.\n",
      "Processing chunk 188...\n"
     ]
    },
    {
     "name": "stderr",
     "output_type": "stream",
     "text": [
      "C:\\Users\\jwright\\AppData\\Local\\Temp\\ipykernel_28352\\2638158900.py:49: PerformanceWarning: DataFrame is highly fragmented.  This is usually the result of calling `frame.insert` many times, which has poor performance.  Consider joining all columns at once using pd.concat(axis=1) instead. To get a de-fragmented frame, use `newframe = frame.copy()`\n",
      "  transformed_chunk['chunk_index'] = chunk_index\n"
     ]
    },
    {
     "name": "stdout",
     "output_type": "stream",
     "text": [
      "Chunk 188 processed and saved.\n",
      "Progress: 99/108 chunks processed.\n",
      "Estimated time remaining: 1154.52 seconds.\n",
      "Processing chunk 189...\n"
     ]
    },
    {
     "name": "stderr",
     "output_type": "stream",
     "text": [
      "C:\\Users\\jwright\\AppData\\Local\\Temp\\ipykernel_28352\\2638158900.py:49: PerformanceWarning: DataFrame is highly fragmented.  This is usually the result of calling `frame.insert` many times, which has poor performance.  Consider joining all columns at once using pd.concat(axis=1) instead. To get a de-fragmented frame, use `newframe = frame.copy()`\n",
      "  transformed_chunk['chunk_index'] = chunk_index\n"
     ]
    },
    {
     "name": "stdout",
     "output_type": "stream",
     "text": [
      "Chunk 189 processed and saved.\n",
      "Progress: 100/108 chunks processed.\n",
      "Estimated time remaining: 1025.84 seconds.\n",
      "Processing chunk 190...\n"
     ]
    },
    {
     "name": "stderr",
     "output_type": "stream",
     "text": [
      "C:\\Users\\jwright\\AppData\\Local\\Temp\\ipykernel_28352\\2638158900.py:49: PerformanceWarning: DataFrame is highly fragmented.  This is usually the result of calling `frame.insert` many times, which has poor performance.  Consider joining all columns at once using pd.concat(axis=1) instead. To get a de-fragmented frame, use `newframe = frame.copy()`\n",
      "  transformed_chunk['chunk_index'] = chunk_index\n"
     ]
    },
    {
     "name": "stdout",
     "output_type": "stream",
     "text": [
      "Chunk 190 processed and saved.\n",
      "Progress: 101/108 chunks processed.\n",
      "Estimated time remaining: 897.33 seconds.\n",
      "Processing chunk 191...\n"
     ]
    },
    {
     "name": "stderr",
     "output_type": "stream",
     "text": [
      "C:\\Users\\jwright\\AppData\\Local\\Temp\\ipykernel_28352\\2638158900.py:49: PerformanceWarning: DataFrame is highly fragmented.  This is usually the result of calling `frame.insert` many times, which has poor performance.  Consider joining all columns at once using pd.concat(axis=1) instead. To get a de-fragmented frame, use `newframe = frame.copy()`\n",
      "  transformed_chunk['chunk_index'] = chunk_index\n"
     ]
    },
    {
     "name": "stdout",
     "output_type": "stream",
     "text": [
      "Chunk 191 processed and saved.\n",
      "Progress: 102/108 chunks processed.\n",
      "Estimated time remaining: 768.88 seconds.\n",
      "Processing chunk 192...\n"
     ]
    },
    {
     "name": "stderr",
     "output_type": "stream",
     "text": [
      "C:\\Users\\jwright\\AppData\\Local\\Temp\\ipykernel_28352\\2638158900.py:49: PerformanceWarning: DataFrame is highly fragmented.  This is usually the result of calling `frame.insert` many times, which has poor performance.  Consider joining all columns at once using pd.concat(axis=1) instead. To get a de-fragmented frame, use `newframe = frame.copy()`\n",
      "  transformed_chunk['chunk_index'] = chunk_index\n"
     ]
    },
    {
     "name": "stdout",
     "output_type": "stream",
     "text": [
      "Chunk 192 processed and saved.\n",
      "Progress: 103/108 chunks processed.\n",
      "Estimated time remaining: 640.51 seconds.\n",
      "Processing chunk 193...\n"
     ]
    },
    {
     "name": "stderr",
     "output_type": "stream",
     "text": [
      "C:\\Users\\jwright\\AppData\\Local\\Temp\\ipykernel_28352\\2638158900.py:49: PerformanceWarning: DataFrame is highly fragmented.  This is usually the result of calling `frame.insert` many times, which has poor performance.  Consider joining all columns at once using pd.concat(axis=1) instead. To get a de-fragmented frame, use `newframe = frame.copy()`\n",
      "  transformed_chunk['chunk_index'] = chunk_index\n"
     ]
    },
    {
     "name": "stdout",
     "output_type": "stream",
     "text": [
      "Chunk 193 processed and saved.\n",
      "Progress: 104/108 chunks processed.\n",
      "Estimated time remaining: 512.35 seconds.\n",
      "Processing chunk 194...\n"
     ]
    },
    {
     "name": "stderr",
     "output_type": "stream",
     "text": [
      "C:\\Users\\jwright\\AppData\\Local\\Temp\\ipykernel_28352\\2638158900.py:49: PerformanceWarning: DataFrame is highly fragmented.  This is usually the result of calling `frame.insert` many times, which has poor performance.  Consider joining all columns at once using pd.concat(axis=1) instead. To get a de-fragmented frame, use `newframe = frame.copy()`\n",
      "  transformed_chunk['chunk_index'] = chunk_index\n"
     ]
    },
    {
     "name": "stdout",
     "output_type": "stream",
     "text": [
      "Chunk 194 processed and saved.\n",
      "Progress: 105/108 chunks processed.\n",
      "Estimated time remaining: 384.19 seconds.\n",
      "Processing chunk 195...\n"
     ]
    },
    {
     "name": "stderr",
     "output_type": "stream",
     "text": [
      "C:\\Users\\jwright\\AppData\\Local\\Temp\\ipykernel_28352\\2638158900.py:49: PerformanceWarning: DataFrame is highly fragmented.  This is usually the result of calling `frame.insert` many times, which has poor performance.  Consider joining all columns at once using pd.concat(axis=1) instead. To get a de-fragmented frame, use `newframe = frame.copy()`\n",
      "  transformed_chunk['chunk_index'] = chunk_index\n"
     ]
    },
    {
     "name": "stdout",
     "output_type": "stream",
     "text": [
      "Chunk 195 processed and saved.\n",
      "Progress: 106/108 chunks processed.\n",
      "Estimated time remaining: 256.04 seconds.\n",
      "Processing chunk 196...\n"
     ]
    },
    {
     "name": "stderr",
     "output_type": "stream",
     "text": [
      "C:\\Users\\jwright\\AppData\\Local\\Temp\\ipykernel_28352\\2638158900.py:49: PerformanceWarning: DataFrame is highly fragmented.  This is usually the result of calling `frame.insert` many times, which has poor performance.  Consider joining all columns at once using pd.concat(axis=1) instead. To get a de-fragmented frame, use `newframe = frame.copy()`\n",
      "  transformed_chunk['chunk_index'] = chunk_index\n"
     ]
    },
    {
     "name": "stdout",
     "output_type": "stream",
     "text": [
      "Chunk 196 processed and saved.\n",
      "Progress: 107/108 chunks processed.\n",
      "Estimated time remaining: 127.98 seconds.\n",
      "Processing chunk 197...\n"
     ]
    },
    {
     "name": "stderr",
     "output_type": "stream",
     "text": [
      "C:\\Users\\jwright\\AppData\\Local\\Temp\\ipykernel_28352\\2638158900.py:49: PerformanceWarning: DataFrame is highly fragmented.  This is usually the result of calling `frame.insert` many times, which has poor performance.  Consider joining all columns at once using pd.concat(axis=1) instead. To get a de-fragmented frame, use `newframe = frame.copy()`\n",
      "  transformed_chunk['chunk_index'] = chunk_index\n"
     ]
    },
    {
     "name": "stdout",
     "output_type": "stream",
     "text": [
      "Chunk 197 processed and saved.\n",
      "Progress: 108/108 chunks processed.\n",
      "Estimated time remaining: 0.00 seconds.\n"
     ]
    }
   ],
   "source": [
    "output_path = r\"C:\\Users\\jwright\\Documents\\GitHub\\sevLandsPublicData\\data\\replay_data\\transformed_replay_data_win_probability\\all_set_200k_games.csv\"\n",
    "\n",
    "process_in_chunks_with_estimation (data, output_path, chunk_size=1000)"
   ]
  }
 ],
 "metadata": {
  "kernelspec": {
   "display_name": "Python 3",
   "language": "python",
   "name": "python3"
  },
  "language_info": {
   "codemirror_mode": {
    "name": "ipython",
    "version": 3
   },
   "file_extension": ".py",
   "mimetype": "text/x-python",
   "name": "python",
   "nbconvert_exporter": "python",
   "pygments_lexer": "ipython3",
   "version": "3.12.0"
  }
 },
 "nbformat": 4,
 "nbformat_minor": 2
}
