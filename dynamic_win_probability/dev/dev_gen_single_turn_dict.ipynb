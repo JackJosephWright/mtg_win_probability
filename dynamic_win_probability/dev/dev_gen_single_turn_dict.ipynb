{
 "cells": [
  {
   "cell_type": "code",
   "execution_count": 1,
   "metadata": {},
   "outputs": [],
   "source": [
    "import os\n",
    "import sys\n",
    "import pandas as pd\n",
    "import numpy as np"
   ]
  },
  {
   "cell_type": "code",
   "execution_count": 2,
   "metadata": {},
   "outputs": [],
   "source": [
    "os.chdir(r\"C:\\Users\\Jack Wright\\Documents\\GitHub\\sevLandsPublicData\\dynamic_win_probability\")"
   ]
  },
  {
   "cell_type": "code",
   "execution_count": 3,
   "metadata": {},
   "outputs": [],
   "source": [
    "current_dir = os.getcwd()\n",
    "funcs_dir = os.path.join(current_dir, 'funcs')\n",
    "if funcs_dir not in sys.path:\n",
    "    sys.path.append(funcs_dir)"
   ]
  },
  {
   "cell_type": "code",
   "execution_count": 4,
   "metadata": {},
   "outputs": [],
   "source": [
    "from transform_row_to_turns import transform_row_to_turns\n",
    "from get_input_columns import get_input_columns\n",
    "from load_id_to_wr_mapping import load_id_to_wr_mapping\n",
    "from load_id_to_wr_turn_mapping import load_id_to_wr_turn_mapping\n",
    "from gen_single_turn_dict import gen_single_turn_dict"
   ]
  },
  {
   "cell_type": "code",
   "execution_count": 5,
   "metadata": {},
   "outputs": [],
   "source": [
    "input_columns = get_input_columns()\n",
    "data = pd.read_csv(r'..\\data\\replay_data\\replay_data_public.DSK.PremierDraft.csv', usecols = input_columns,  nrows = 10)\n",
    "\n"
   ]
  },
  {
   "cell_type": "code",
   "execution_count": 9,
   "metadata": {},
   "outputs": [
    {
     "data": {
      "text/plain": [
       "draft_id                                          53401b113a4f425fa26e60edd314dd27\n",
       "on_play                                                                       True\n",
       "num_turns                                                                        5\n",
       "won                                                                           True\n",
       "user_turn_1_eot_user_cards_in_hand             92217|92181|92219|92216|90190|90190\n",
       "                                                              ...                 \n",
       "oppo_turn_20_eot_oppo_cards_in_hand                                            0.0\n",
       "oppo_turn_20_eot_oppo_lands_in_play                                            NaN\n",
       "oppo_turn_20_eot_oppo_creatures_in_play                                        NaN\n",
       "oppo_turn_20_eot_oppo_non_creatures_in_play                                    NaN\n",
       "oppo_turn_20_eot_oppo_life                                                     0.0\n",
       "Name: 0, Length: 204, dtype: object"
      ]
     },
     "execution_count": 9,
     "metadata": {},
     "output_type": "execute_result"
    }
   ],
   "source": [
    "row = data.iloc[0]\n",
    "row"
   ]
  },
  {
   "cell_type": "code",
   "execution_count": 8,
   "metadata": {},
   "outputs": [
    {
     "data": {
      "text/plain": [
       "{0: {'user': {'game_id': '53401b113a4f425fa26e60edd314dd27',\n",
       "   'turn': 0,\n",
       "   'on_play': True,\n",
       "   'won': True,\n",
       "   'user_hand_1': nan,\n",
       "   'user_hand_2': nan,\n",
       "   'user_hand_3': nan,\n",
       "   'user_hand_4': nan,\n",
       "   'user_hand_5': nan,\n",
       "   'user_hand_6': nan,\n",
       "   'user_hand_7': nan,\n",
       "   'user_hand_8': nan,\n",
       "   'user_hand_9': nan,\n",
       "   'user_hand_10': nan,\n",
       "   'user_hand_11': nan,\n",
       "   'user_hand_12': nan,\n",
       "   'user_hand_13': nan,\n",
       "   'user_hand_14': nan,\n",
       "   'user_hand_15': nan,\n",
       "   'user_hand_16': nan,\n",
       "   'user_hand_17': nan,\n",
       "   'user_hand_18': nan,\n",
       "   'user_hand_19': nan,\n",
       "   'user_hand_20': nan,\n",
       "   'user_lands_in_play': 1,\n",
       "   'oppo_cards_in_hand': None,\n",
       "   'oppo_lands_in_play': 1},\n",
       "  'oppo': {'game_id': '53401b113a4f425fa26e60edd314dd27',\n",
       "   'turn': 0,\n",
       "   'on_play': True,\n",
       "   'won': True,\n",
       "   'user_hand_1': nan,\n",
       "   'user_hand_2': nan,\n",
       "   'user_hand_3': nan,\n",
       "   'user_hand_4': nan,\n",
       "   'user_hand_5': nan,\n",
       "   'user_hand_6': nan,\n",
       "   'user_hand_7': nan,\n",
       "   'user_hand_8': nan,\n",
       "   'user_hand_9': nan,\n",
       "   'user_hand_10': nan,\n",
       "   'user_hand_11': nan,\n",
       "   'user_hand_12': nan,\n",
       "   'user_hand_13': nan,\n",
       "   'user_hand_14': nan,\n",
       "   'user_hand_15': nan,\n",
       "   'user_hand_16': nan,\n",
       "   'user_hand_17': nan,\n",
       "   'user_hand_18': nan,\n",
       "   'user_hand_19': nan,\n",
       "   'user_hand_20': nan,\n",
       "   'user_lands_in_play': 1,\n",
       "   'oppo_cards_in_hand': None,\n",
       "   'oppo_lands_in_play': 1}}}"
      ]
     },
     "execution_count": 8,
     "metadata": {},
     "output_type": "execute_result"
    }
   ],
   "source": [
    "gen_single_turn_dict(row,'user', 0)"
   ]
  },
  {
   "cell_type": "markdown",
   "metadata": {},
   "source": []
  }
 ],
 "metadata": {
  "kernelspec": {
   "display_name": "base",
   "language": "python",
   "name": "python3"
  },
  "language_info": {
   "codemirror_mode": {
    "name": "ipython",
    "version": 3
   },
   "file_extension": ".py",
   "mimetype": "text/x-python",
   "name": "python",
   "nbconvert_exporter": "python",
   "pygments_lexer": "ipython3",
   "version": "3.12.7"
  }
 },
 "nbformat": 4,
 "nbformat_minor": 2
}
