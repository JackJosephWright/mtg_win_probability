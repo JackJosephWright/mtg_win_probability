{
 "cells": [
  {
   "cell_type": "code",
   "execution_count": 6,
   "metadata": {},
   "outputs": [
    {
     "data": {
      "text/plain": [
       "Index(['turn', 'on_play', 'won', 'user_hand_1', 'user_hand_2', 'user_hand_3',\n",
       "       'user_hand_4', 'user_hand_5', 'user_hand_6', 'user_hand_7',\n",
       "       ...\n",
       "       'oppo_non_creatures_12', 'oppo_non_creatures_13',\n",
       "       'oppo_non_creatures_14', 'oppo_non_creatures_15',\n",
       "       'oppo_non_creatures_16', 'oppo_non_creatures_17',\n",
       "       'oppo_non_creatures_18', 'oppo_non_creatures_19',\n",
       "       'oppo_non_creatures_20', 'oppo_life'],\n",
       "      dtype='object', length=108)"
      ]
     },
     "execution_count": 6,
     "metadata": {},
     "output_type": "execute_result"
    }
   ],
   "source": [
    "import os\n",
    "import sys\n",
    "import pandas as pd\n",
    "from sklearn.model_selection import train_test_split\n",
    "from sklearn.metrics import accuracy_score\n",
    "from sklearn.ensemble import HistGradientBoostingClassifier, RandomForestClassifier\n",
    "import xgboost as xgb\n",
    "import joblib\n",
    "import lightgbm as lgb\n",
    "from sklearn.linear_model import LogisticRegression  # Baseline model\n",
    "import matplotlib.pyplot as plt\n",
    "\n",
    "# Set up the working directory\n",
    "os.chdir(r\"C:\\Users\\Jack Wright\\Documents\\GitHub\\sevLandsPublicData\\dynamic_win_probability\")\n",
    "current_dir = os.getcwd()\n",
    "funcs_dir = os.path.join(current_dir, 'funcs')\n",
    "\n",
    "if funcs_dir not in sys.path:\n",
    "    sys.path.append(funcs_dir)\n",
    "\n",
    "# Load the data\n",
    "data = pd.read_csv(r\"C:\\Users\\Jack Wright\\Documents\\GitHub\\sevLandsPublicData\\data\\replay_data\\transformed_replay_data_win_probability\\dynamic_win_prob_chunked.csv\")\n",
    "\n",
    "# Drop unnecessary columns\n",
    "data.drop('game_id', axis=1, inplace=True)\n",
    "data.drop('unique_id', axis=1, inplace=True)\n",
    "data.columns\n"
   ]
  },
  {
   "cell_type": "code",
   "execution_count": 5,
   "metadata": {},
   "outputs": [
    {
     "name": "stdout",
     "output_type": "stream",
     "text": [
      "Processing phase: Early Game\n",
      "Early Game - Baseline (LogReg): Accuracy = 0.5747\n",
      "Early Game - HistGradientBoosting: Accuracy = 0.6342\n",
      "Early Game - Random Forest: Accuracy = 0.6236\n"
     ]
    },
    {
     "name": "stderr",
     "output_type": "stream",
     "text": [
      "c:\\ProgramData\\miniforge3\\Lib\\site-packages\\xgboost\\core.py:158: UserWarning: [16:27:22] WARNING: D:\\bld\\xgboost-split_1733179535861\\work\\src\\learner.cc:740: \n",
      "Parameters: { \"use_label_encoder\" } are not used.\n",
      "\n",
      "  warnings.warn(smsg, UserWarning)\n"
     ]
    },
    {
     "name": "stdout",
     "output_type": "stream",
     "text": [
      "Early Game - XGBoost: Accuracy = 0.6368\n",
      "[LightGBM] [Info] Number of positive: 231402, number of negative: 186917\n",
      "[LightGBM] [Info] Auto-choosing row-wise multi-threading, the overhead of testing was 0.010232 seconds.\n",
      "You can set `force_row_wise=true` to remove the overhead.\n",
      "And if memory is not enough, you can set `force_col_wise=true`.\n",
      "[LightGBM] [Info] Total Bins 2614\n",
      "[LightGBM] [Info] Number of data points in the train set: 418319, number of used features: 43\n",
      "[LightGBM] [Info] [binary:BoostFromScore]: pavg=0.553171 -> initscore=0.213492\n",
      "[LightGBM] [Info] Start training from score 0.213492\n",
      "Early Game - LightGBM: Accuracy = 0.6344\n",
      "Processing phase: Mid Game\n",
      "Mid Game - Baseline (LogReg): Accuracy = 0.6561\n",
      "Mid Game - HistGradientBoosting: Accuracy = 0.7569\n",
      "Mid Game - Random Forest: Accuracy = 0.7590\n"
     ]
    },
    {
     "name": "stderr",
     "output_type": "stream",
     "text": [
      "c:\\ProgramData\\miniforge3\\Lib\\site-packages\\xgboost\\core.py:158: UserWarning: [16:28:27] WARNING: D:\\bld\\xgboost-split_1733179535861\\work\\src\\learner.cc:740: \n",
      "Parameters: { \"use_label_encoder\" } are not used.\n",
      "\n",
      "  warnings.warn(smsg, UserWarning)\n"
     ]
    },
    {
     "name": "stdout",
     "output_type": "stream",
     "text": [
      "Mid Game - XGBoost: Accuracy = 0.7651\n",
      "[LightGBM] [Info] Number of positive: 155116, number of negative: 129664\n",
      "[LightGBM] [Info] Auto-choosing row-wise multi-threading, the overhead of testing was 0.019981 seconds.\n",
      "You can set `force_row_wise=true` to remove the overhead.\n",
      "And if memory is not enough, you can set `force_col_wise=true`.\n",
      "[LightGBM] [Info] Total Bins 4428\n",
      "[LightGBM] [Info] Number of data points in the train set: 284780, number of used features: 64\n",
      "[LightGBM] [Info] [binary:BoostFromScore]: pavg=0.544687 -> initscore=0.179227\n",
      "[LightGBM] [Info] Start training from score 0.179227\n",
      "Mid Game - LightGBM: Accuracy = 0.7578\n",
      "Processing phase: Late Game\n",
      "Late Game - Baseline (LogReg): Accuracy = 0.6336\n",
      "Late Game - HistGradientBoosting: Accuracy = 0.7653\n",
      "Late Game - Random Forest: Accuracy = 0.7875\n"
     ]
    },
    {
     "name": "stderr",
     "output_type": "stream",
     "text": [
      "c:\\ProgramData\\miniforge3\\Lib\\site-packages\\xgboost\\core.py:158: UserWarning: [16:28:51] WARNING: D:\\bld\\xgboost-split_1733179535861\\work\\src\\learner.cc:740: \n",
      "Parameters: { \"use_label_encoder\" } are not used.\n",
      "\n",
      "  warnings.warn(smsg, UserWarning)\n"
     ]
    },
    {
     "name": "stdout",
     "output_type": "stream",
     "text": [
      "Late Game - XGBoost: Accuracy = 0.7778\n",
      "[LightGBM] [Info] Number of positive: 25059, number of negative: 22869\n",
      "[LightGBM] [Info] Auto-choosing row-wise multi-threading, the overhead of testing was 0.005291 seconds.\n",
      "You can set `force_row_wise=true` to remove the overhead.\n",
      "And if memory is not enough, you can set `force_col_wise=true`.\n",
      "[LightGBM] [Info] Total Bins 4444\n",
      "[LightGBM] [Info] Number of data points in the train set: 47928, number of used features: 70\n",
      "[LightGBM] [Info] [binary:BoostFromScore]: pavg=0.522847 -> initscore=0.091451\n",
      "[LightGBM] [Info] Start training from score 0.091451\n",
      "Late Game - LightGBM: Accuracy = 0.7710\n",
      "\n",
      "Training General Model on Entire Dataset...\n",
      "General Model - Baseline (LogReg): Error = Input X contains NaN.\n",
      "LogisticRegression does not accept missing values encoded as NaN natively. For supervised learning, you might want to consider sklearn.ensemble.HistGradientBoostingClassifier and Regressor which accept missing values encoded as NaNs natively. Alternatively, it is possible to preprocess the data, for instance by using an imputer transformer in a pipeline or drop samples with missing values. See https://scikit-learn.org/stable/modules/impute.html You can find a list of all estimators that handle NaN values at the following page: https://scikit-learn.org/stable/modules/impute.html#estimators-that-handle-nan-values\n",
      "General Model - HistGradientBoosting: Accuracy = 0.6838\n",
      "General Model - Random Forest: Accuracy = 0.6869\n"
     ]
    },
    {
     "name": "stderr",
     "output_type": "stream",
     "text": [
      "c:\\ProgramData\\miniforge3\\Lib\\site-packages\\xgboost\\core.py:158: UserWarning: [16:37:13] WARNING: D:\\bld\\xgboost-split_1733179535861\\work\\src\\learner.cc:740: \n",
      "Parameters: { \"use_label_encoder\" } are not used.\n",
      "\n",
      "  warnings.warn(smsg, UserWarning)\n"
     ]
    },
    {
     "name": "stdout",
     "output_type": "stream",
     "text": [
      "General Model - XGBoost: Accuracy = 0.6911\n",
      "[LightGBM] [Info] Number of positive: 411351, number of negative: 339677\n",
      "[LightGBM] [Info] Auto-choosing row-wise multi-threading, the overhead of testing was 0.056427 seconds.\n",
      "You can set `force_row_wise=true` to remove the overhead.\n",
      "And if memory is not enough, you can set `force_col_wise=true`.\n",
      "[LightGBM] [Info] Total Bins 4396\n",
      "[LightGBM] [Info] Number of data points in the train set: 751028, number of used features: 71\n",
      "[LightGBM] [Info] [binary:BoostFromScore]: pavg=0.547717 -> initscore=0.191452\n",
      "[LightGBM] [Info] Start training from score 0.191452\n",
      "General Model - LightGBM: Accuracy = 0.6832\n",
      "\n",
      "Phase-Specific Model Benchmarking Results:\n",
      "               Baseline (LogReg)  HistGradientBoosting  Random Forest  \\\n",
      "Early Game              0.574689              0.634165       0.623637   \n",
      "Mid Game                0.656071              0.756949       0.759014   \n",
      "Late Game               0.633617              0.765315       0.787515   \n",
      "General Model                NaN              0.683788       0.686872   \n",
      "\n",
      "                XGBoost  LightGBM  \n",
      "Early Game     0.636766  0.634443  \n",
      "Mid Game       0.765138  0.757834  \n",
      "Late Game      0.777833  0.770990  \n",
      "General Model  0.691079  0.683165  \n"
     ]
    },
    {
     "data": {
      "image/png": "[encoded data removed]",
      "text/plain": [
       "<Figure size 1200x600 with 1 Axes>"
      ]
     },
     "metadata": {},
     "output_type": "display_data"
    }
   ],
   "source": [
    "# Define turn phases\n",
    "phases = {\n",
    "    \"Early Game\": (1, 5),\n",
    "    \"Mid Game\": (6, 10),\n",
    "    \"Late Game\": (11, 26)  # Assuming 26 is the max turn\n",
    "}\n",
    "\n",
    "# Model Dictionary\n",
    "models = {\n",
    "    \"Baseline (LogReg)\": LogisticRegression(max_iter=500),\n",
    "    \"HistGradientBoosting\": HistGradientBoostingClassifier(),\n",
    "    \"Random Forest\": RandomForestClassifier(n_estimators=100, random_state=42),\n",
    "    \"XGBoost\": xgb.XGBClassifier(use_label_encoder=False, eval_metric='logloss'),\n",
    "    \"LightGBM\": lgb.LGBMClassifier()\n",
    "}\n",
    "\n",
    "# Results storage\n",
    "phase_results = {}\n",
    "\n",
    "# Train and Evaluate Models for Each Phase\n",
    "for phase, (turn_min, turn_max) in phases.items():\n",
    "    print(f\"Processing phase: {phase}\")\n",
    "    \n",
    "    # Filter data for the phase\n",
    "    phase_data = data[(data['turn'] >= turn_min) & (data['turn'] <= turn_max)]\n",
    "    \n",
    "    # Baseline Features\n",
    "    baseline_features = ['user_life', 'oppo_life', 'on_play']\n",
    "    all_features = [col for col in phase_data.columns if col not in ['turn', 'won']]\n",
    "    \n",
    "    # Feature Selection\n",
    "    X_baseline = phase_data[baseline_features]\n",
    "    X_full = phase_data[all_features]\n",
    "    y = phase_data['won'].astype(int)  # Ensure binary target\n",
    "\n",
    "    # Train-Test Split\n",
    "    X_base_train, X_base_test, y_train, y_test = train_test_split(X_baseline, y, test_size=0.2, random_state=42)\n",
    "    X_full_train, X_full_test, _, _ = train_test_split(X_full, y, test_size=0.2, random_state=42)\n",
    "\n",
    "    # Store phase-specific results\n",
    "    phase_results[phase] = {}\n",
    "\n",
    "    for name, model in models.items():\n",
    "        try:\n",
    "            # Use baseline features for the baseline model\n",
    "            if \"Baseline\" in name:\n",
    "                model.fit(X_base_train, y_train)\n",
    "                y_pred = model.predict(X_base_test)\n",
    "            else:\n",
    "                # Use all features for other models\n",
    "                model.fit(X_full_train, y_train)\n",
    "                y_pred = model.predict(X_full_test)\n",
    "            \n",
    "            accuracy = accuracy_score(y_test, y_pred)\n",
    "            phase_results[phase][name] = accuracy\n",
    "            print(f\"{phase} - {name}: Accuracy = {accuracy:.4f}\")\n",
    "        except Exception as e:\n",
    "            print(f\"{phase} - {name}: Error = {e}\")\n",
    "\n",
    "# General Model Training on Entire Dataset\n",
    "print(\"\\nTraining General Model on Entire Dataset...\")\n",
    "\n",
    "# All features for the entire dataset\n",
    "general_features = [col for col in data.columns if col not in ['turn', 'won']]\n",
    "X_general = data[general_features]\n",
    "y_general = data['won'].astype(int)  # Ensure binary target\n",
    "\n",
    "# Train-Test Split for General Model\n",
    "X_gen_train, X_gen_test, y_gen_train, y_gen_test = train_test_split(X_general, y_general, test_size=0.2, random_state=42)\n",
    "\n",
    "# Store results for General Model\n",
    "general_results = {}\n",
    "\n",
    "for name, model in models.items():\n",
    "    try:\n",
    "        model.fit(X_gen_train, y_gen_train)\n",
    "        y_gen_pred = model.predict(X_gen_test)\n",
    "        \n",
    "        accuracy = accuracy_score(y_gen_test, y_gen_pred)\n",
    "        general_results[name] = accuracy\n",
    "        print(f\"General Model - {name}: Accuracy = {accuracy:.4f}\")\n",
    "    except Exception as e:\n",
    "        print(f\"General Model - {name}: Error = {e}\")\n",
    "\n",
    "# Add general results to phase results for comparison\n",
    "phase_results['General Model'] = general_results\n",
    "\n",
    "# Convert results to DataFrame\n",
    "results_df = pd.DataFrame.from_dict(phase_results, orient='index')\n",
    "print(\"\\nPhase-Specific Model Benchmarking Results:\")\n",
    "print(results_df)\n",
    "\n",
    "# Visualization\n",
    "results_df.plot(kind='bar', figsize=(12, 6))\n",
    "plt.title('Model Accuracy Comparison by Phase')\n",
    "plt.ylabel('Accuracy')\n",
    "plt.xlabel('Game Phase')\n",
    "plt.legend(title='Models')\n",
    "plt.tight_layout()\n",
    "plt.show()\n"
   ]
  },
  {
   "cell_type": "code",
   "execution_count": 8,
   "metadata": {},
   "outputs": [
    {
     "data": {
      "text/plain": [
       "'C:\\\\Users\\\\Jack Wright\\\\Documents\\\\GitHub\\\\sevLandsPublicData\\\\dynamic_win_probability'"
      ]
     },
     "execution_count": 8,
     "metadata": {},
     "output_type": "execute_result"
    }
   ],
   "source": [
    "os.getcwd()"
   ]
  },
  {
   "cell_type": "code",
   "execution_count": 9,
   "metadata": {},
   "outputs": [
    {
     "data": {
      "text/plain": [
       "['../models/win_probability/phase_models/random_forest_late_game.pkl']"
      ]
     },
     "execution_count": 9,
     "metadata": {},
     "output_type": "execute_result"
    }
   ],
   "source": [
    "joblib.dump(models['XGBoost'], '../models/win_probability/phase_models/xgboost_early_game.pkl')\n",
    "joblib.dump(models['XGBoost'], '../models/win_probability/phase_models/xgboost_mid_game.pkl')\n",
    "joblib.dump(models['Random Forest'], '../models/win_probability/phase_models/random_forest_late_game.pkl')"
   ]
  }
 ],
 "metadata": {
  "kernelspec": {
   "display_name": "base",
   "language": "python",
   "name": "python3"
  },
  "language_info": {
   "codemirror_mode": {
    "name": "ipython",
    "version": 3
   },
   "file_extension": ".py",
   "mimetype": "text/x-python",
   "name": "python",
   "nbconvert_exporter": "python",
   "pygments_lexer": "ipython3",
   "version": "3.12.7"
  }
 },
 "nbformat": 4,
 "nbformat_minor": 2
}
